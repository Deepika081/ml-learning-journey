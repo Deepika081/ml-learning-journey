{
 "cells": [
  {
   "cell_type": "markdown",
   "id": "06c7ce07-d475-4206-8d86-1622fa5a0b12",
   "metadata": {},
   "source": [
    "### Map practice questions"
   ]
  },
  {
   "cell_type": "code",
   "execution_count": 1,
   "id": "de3011a9-8437-4361-9454-b4d01684e410",
   "metadata": {},
   "outputs": [
    {
     "data": {
      "text/plain": [
       "['Hyd', 'Bengaluru', 'Goa', 'Mumbai', 'Chennai', 'Delhi']"
      ]
     },
     "execution_count": 1,
     "metadata": {},
     "output_type": "execute_result"
    }
   ],
   "source": [
    "# 1. Write a Python program using map() to capitalize the first letter of each word in a list of strings.\n",
    "\n",
    "names = ['hyd', 'bengaluru', 'goa', 'mumbai', 'chennai', 'delhi']\n",
    "capitalized_names = list(map(lambda i: i.capitalize(), names))\n",
    "capitalized_names"
   ]
  },
  {
   "cell_type": "code",
   "execution_count": 5,
   "id": "5c920fff-d682-45ad-a767-c932f727b5b6",
   "metadata": {},
   "outputs": [
    {
     "data": {
      "text/plain": [
       "[5, 12, 21, 32]"
      ]
     },
     "execution_count": 5,
     "metadata": {},
     "output_type": "execute_result"
    }
   ],
   "source": [
    "# 2. How can you apply map() to multiple iterables at once? Provide an example.\n",
    "\n",
    "l1 = [1,2,3,4]\n",
    "l2 = [5,6,7,8]\n",
    "squares = list(map((lambda i,j: i*j), l1, l2))\n",
    "squares"
   ]
  },
  {
   "cell_type": "code",
   "execution_count": 9,
   "id": "68c8c195-1902-4729-9f41-1daf723e54cf",
   "metadata": {},
   "outputs": [
    {
     "name": "stdout",
     "output_type": "stream",
     "text": [
      "5\n",
      "7\n",
      "9\n"
     ]
    },
    {
     "data": {
      "text/plain": [
       "[None, None, None]"
      ]
     },
     "execution_count": 9,
     "metadata": {},
     "output_type": "execute_result"
    }
   ],
   "source": [
    "# 3. What happens when the function passed to map() returns None? Demonstrate with an example.\n",
    "\n",
    "def addition(a,b):\n",
    "    print(a+b)\n",
    "output = list(map(addition, [1,2,3], [4,5,6]))\n",
    "output\n",
    "\n",
    "# when a function returns None then the list stores None only.\n",
    "# it wont throw error but it will just return None and that None gets stored in the list"
   ]
  },
  {
   "cell_type": "code",
   "execution_count": 14,
   "id": "869eda88-cd2a-4ea6-a94b-db1c61411124",
   "metadata": {},
   "outputs": [
    {
     "name": "stdout",
     "output_type": "stream",
     "text": [
      "[1.0, 2.0, 3.0, 4.5]\n"
     ]
    },
    {
     "data": {
      "text/plain": [
       "float"
      ]
     },
     "execution_count": 14,
     "metadata": {},
     "output_type": "execute_result"
    }
   ],
   "source": [
    "# 4. Convert a list of strings representing numbers (like [\"1\", \"2\", \"3.5\"]) into floats using map().\n",
    "\n",
    "numbers = [1,2,3,4.5]\n",
    "floats = list(map(lambda x: float(x),numbers))\n",
    "print(floats)\n",
    "type(floats[0])"
   ]
  },
  {
   "cell_type": "code",
   "execution_count": 20,
   "id": "69a17fc5-09c4-4b04-88f1-462bbb88f4c5",
   "metadata": {},
   "outputs": [
    {
     "name": "stdout",
     "output_type": "stream",
     "text": [
      "[12, 13, 14, 15]\n",
      "[12, 13, 14, 15]\n"
     ]
    }
   ],
   "source": [
    "# 5. Explain how map() can be replaced with a list comprehension in Python. When is one preferred over the other?\n",
    "\n",
    "l3 = [2,3,4,5]\n",
    "using_map = list(map(lambda x: x+10, l3))\n",
    "print(using_map)\n",
    "using_list_comp = [i+10 for i in l3]\n",
    "print(using_list_comp)\n",
    "\n",
    "# use map() when you have an existing function and want to apply it to a list\n",
    "# but most of the times list comprehension is preferred\n",
    "# list comprehension is faster and more readable"
   ]
  },
  {
   "cell_type": "code",
   "execution_count": 19,
   "id": "b37706ee-4564-4b5a-b834-20490cab4929",
   "metadata": {},
   "outputs": [
    {
     "name": "stdout",
     "output_type": "stream",
     "text": [
      "[5, 7, 9]\n"
     ]
    }
   ],
   "source": [
    "# 6. Given two lists, a = [1, 2, 3] and b = [4, 5, 6], use map() to produce [5, 7, 9].\n",
    "\n",
    "a = [1,2,3]\n",
    "b = [4,5,6]\n",
    "c = list(map(lambda x,y: x+y, a,b))\n",
    "print(c)"
   ]
  },
  {
   "cell_type": "code",
   "execution_count": 22,
   "id": "41180aee-70b9-4b1c-87b9-23ad556e3f28",
   "metadata": {},
   "outputs": [
    {
     "data": {
      "text/plain": [
       "[1156, 484, 33, 3136, 45, 89, 5776, 57, 1764, 100]"
      ]
     },
     "execution_count": 22,
     "metadata": {},
     "output_type": "execute_result"
    }
   ],
   "source": [
    "# 7. Use map() with a lambda to return the squares of even numbers and keep odd numbers as they are.\n",
    "\n",
    "nums = [34,22,33,56,45,89,76,57,42,10]\n",
    "updated_list = list(map(lambda i: i if i%2!=0 else i*i, nums))\n",
    "updated_list"
   ]
  },
  {
   "cell_type": "code",
   "execution_count": 27,
   "id": "b0d4ea8d-002e-46e6-8d71-b982ec431a46",
   "metadata": {},
   "outputs": [
    {
     "data": {
      "text/plain": [
       "[[1, 4], [9, 16, 25], [36, 49, 64]]"
      ]
     },
     "execution_count": 27,
     "metadata": {},
     "output_type": "execute_result"
    }
   ],
   "source": [
    "# 8. How would you apply a function to each element of a nested list (e.g., list of lists) using map()\n",
    "l4 = [[1,2],[3,4,5],[6,7,8]]\n",
    "output4 = list(map(lambda sublist: list(map(lambda x: x*x, sublist)), l4))\n",
    "output4"
   ]
  },
  {
   "cell_type": "code",
   "execution_count": 77,
   "id": "527c9c17-436b-4ab6-a366-34c1f0040efb",
   "metadata": {},
   "outputs": [
    {
     "data": {
      "text/plain": [
       "[5, 7, 9]"
      ]
     },
     "execution_count": 77,
     "metadata": {},
     "output_type": "execute_result"
    }
   ],
   "source": [
    "# 9. Given a list of tuples like [(2, 3), (3, 4), (4, 5)], use map() to multiply the two elements in each tuple.\n",
    "def add(a):\n",
    "    return a[0]+a[1]\n",
    "t1 = [(2, 3), (3, 4), (4, 5)]\n",
    "output1 = list(map(add, t1))\n",
    "output1"
   ]
  },
  {
   "cell_type": "code",
   "execution_count": 39,
   "id": "1e0fed22-8246-4855-93e8-4c9ef9dece34",
   "metadata": {},
   "outputs": [
    {
     "data": {
      "text/plain": [
       "['gmail', 'org', 'edu']"
      ]
     },
     "execution_count": 39,
     "metadata": {},
     "output_type": "execute_result"
    }
   ],
   "source": [
    "# 10. Use map() to extract the domain name from a list of email addresses.\n",
    "\n",
    "email = ['abc@gmail.com', 'hello@org.com', 'school@edu.com']\n",
    "domain = list(map(lambda x: x[x.find('@')+1:x.find('.')],email))\n",
    "domain"
   ]
  },
  {
   "cell_type": "markdown",
   "id": "512c4b0a-c514-40c8-a3a4-4b3c8af8e65a",
   "metadata": {},
   "source": [
    "### Filter practice questions"
   ]
  },
  {
   "cell_type": "code",
   "execution_count": 56,
   "id": "80a5c62c-8a9b-4663-9498-1c2e54949bdb",
   "metadata": {},
   "outputs": [
    {
     "data": {
      "text/plain": [
       "[34, 22, 56, 76, 42, 10]"
      ]
     },
     "execution_count": 56,
     "metadata": {},
     "output_type": "execute_result"
    }
   ],
   "source": [
    "# 1. Given a list of integers, use filter() to get only even numbers.\n",
    "\n",
    "integers = [34,22,33,56,45,89,76,57,42,10]\n",
    "evens = list(filter(lambda x: x%2==0,integers))\n",
    "evens"
   ]
  },
  {
   "cell_type": "code",
   "execution_count": 57,
   "id": "3228587e-95c5-488c-b44e-03ff87b3cd80",
   "metadata": {},
   "outputs": [
    {
     "data": {
      "text/plain": [
       "['banana', 'cherry']"
      ]
     },
     "execution_count": 57,
     "metadata": {},
     "output_type": "execute_result"
    }
   ],
   "source": [
    "# 2. Use filter() to get all strings in a list with length > 5.\n",
    "\n",
    "my_list = [\"apple\", \"banana\", \"cherry\", \"kiwi\"]\n",
    "len_5 = list(filter(lambda x: len(x)>5, my_list))\n",
    "len_5"
   ]
  },
  {
   "cell_type": "code",
   "execution_count": 61,
   "id": "e64102b1-a44a-4a6f-956c-c54465f13250",
   "metadata": {},
   "outputs": [
    {
     "name": "stdout",
     "output_type": "stream",
     "text": [
      "[2, 3, 7, 17, 71, 89]\n"
     ]
    }
   ],
   "source": [
    "# 3. Given a list of numbers, use filter() to get only prime numbers.\n",
    "l5 = [2,3,6,8,7,17,45,71,66,84,89]\n",
    "def is_prime(x):\n",
    "    prime_count = 1\n",
    "    for i in range(2,x+1):\n",
    "        if x%i==0:\n",
    "            prime_count += 1\n",
    "            if prime_count>2:\n",
    "                break\n",
    "    return prime_count\n",
    "\n",
    "primes = list(filter(lambda x: is_prime(x)==2, l5))\n",
    "print(primes)"
   ]
  },
  {
   "cell_type": "code",
   "execution_count": 63,
   "id": "f39703f0-cbf3-4328-a698-b83f7baa90d5",
   "metadata": {},
   "outputs": [
    {
     "name": "stdout",
     "output_type": "stream",
     "text": [
      "['adam', 'olive', 'ice']\n"
     ]
    }
   ],
   "source": [
    "# 4. Use filter() to extract words that start with a vowel.\n",
    "\n",
    "names = ['adam', 'boy', 'cat', 'olive', 'ice']\n",
    "list_vowel = list(filter(lambda x: x[0] in 'aeiou', names))\n",
    "print(list_vowel)"
   ]
  },
  {
   "cell_type": "code",
   "execution_count": 64,
   "id": "d46154c9-0ab6-4aa1-908c-d194f3c74a37",
   "metadata": {},
   "outputs": [
    {
     "data": {
      "text/plain": [
       "['abc@gmail.com', 'hi@gmail.com']"
      ]
     },
     "execution_count": 64,
     "metadata": {},
     "output_type": "execute_result"
    }
   ],
   "source": [
    "# 5. From a list of emails, use filter() to select only Gmail addresses.\n",
    "emails = ['abc@gmail.com', 'hello@yahoo.com', 'school@edu.com', 'hi@gmail.com']\n",
    "gmail = list(filter(lambda x: x[x.find('@')+1:x.find('.')]=='gmail', emails))\n",
    "gmail"
   ]
  },
  {
   "cell_type": "code",
   "execution_count": 65,
   "id": "420b2efd-14ac-4516-86a4-933400e07663",
   "metadata": {},
   "outputs": [
    {
     "data": {
      "text/plain": [
       "['madam', 'rotator', 'deed']"
      ]
     },
     "execution_count": 65,
     "metadata": {},
     "output_type": "execute_result"
    }
   ],
   "source": [
    "# 6. Use filter() to return all elements that are palindrome strings.\n",
    "\n",
    "str1 = ['madam', 'rotator', 'helo', 'deed', 'meet', 'fine']\n",
    "palindrome = list(filter(lambda x: x==x[::-1], str1))\n",
    "palindrome"
   ]
  },
  {
   "cell_type": "code",
   "execution_count": 70,
   "id": "40fce234-e5eb-4ace-b69c-05de85178982",
   "metadata": {},
   "outputs": [
    {
     "data": {
      "text/plain": [
       "[34, 16, 4, 25]"
      ]
     },
     "execution_count": 70,
     "metadata": {},
     "output_type": "execute_result"
    }
   ],
   "source": [
    "# 7. Given a list of integers, use filter() to select only perfect squares.\n",
    "from math import sqrt\n",
    "def perfect_sqr(x):\n",
    "    sqr = sqrt(x)\n",
    "    if sqr*sqr == x:\n",
    "        return True\n",
    "    else:\n",
    "        return False\n",
    "\n",
    "sqrs = list(filter(lambda x: perfect_sqr(x), [12,34,16,4,13,25]))\n",
    "sqrs"
   ]
  },
  {
   "cell_type": "code",
   "execution_count": 72,
   "id": "bd515a8f-306a-4b53-b893-fd903a4346fa",
   "metadata": {},
   "outputs": [
    {
     "data": {
      "text/plain": [
       "[15, 30, 60]"
      ]
     },
     "execution_count": 72,
     "metadata": {},
     "output_type": "execute_result"
    }
   ],
   "source": [
    "# 8. Use filter() to get all numbers divisible by both 3 and 5.\n",
    "\n",
    "nums1 = [3,24,15,30,12,60,56]\n",
    "divisible = list(filter(lambda x: x%3==0 and x%5==0, nums1))\n",
    "divisible"
   ]
  },
  {
   "cell_type": "code",
   "execution_count": 76,
   "id": "76aa9b2a-8972-4752-85a3-7720f523fdc2",
   "metadata": {},
   "outputs": [
    {
     "data": {
      "text/plain": [
       "[('john', 45), ('daisy', 18)]"
      ]
     },
     "execution_count": 76,
     "metadata": {},
     "output_type": "execute_result"
    }
   ],
   "source": [
    "# 9. Given a list of tuples representing (name, age), use filter() to return people aged 18 and above.\n",
    "details = [('adam', 13), ('john',45), ('krish',15), ('daisy',18)]\n",
    "# def age_18(x):\n",
    "#     if x[1]>=18:\n",
    "#         return True\n",
    "old = list(filter(lambda x: x[1]>=18, details))\n",
    "old"
   ]
  },
  {
   "cell_type": "code",
   "execution_count": 78,
   "id": "8a057304-f82a-4f5a-aea4-cfdaa4b11d17",
   "metadata": {},
   "outputs": [
    {
     "data": {
      "text/plain": [
       "['7868564690', '8967440025', '7768573301']"
      ]
     },
     "execution_count": 78,
     "metadata": {},
     "output_type": "execute_result"
    }
   ],
   "source": [
    "# 10. Use filter() to extract only valid phone numbers from a list of strings (10 digits)\n",
    "\n",
    "ph_no = ['7868564690','8967440025','23890','7768573301','01892']\n",
    "valid = list(filter(lambda x: len(x)==10, ph_no))\n",
    "valid"
   ]
  },
  {
   "cell_type": "markdown",
   "id": "61850e94-66a6-4b16-9f8a-07053a1a35b9",
   "metadata": {},
   "source": [
    "### Reduce practice questions"
   ]
  },
  {
   "cell_type": "code",
   "execution_count": 79,
   "id": "339b43f8-de04-4cd6-b134-0e1ebf99ab64",
   "metadata": {},
   "outputs": [],
   "source": [
    "from functools import reduce"
   ]
  },
  {
   "cell_type": "code",
   "execution_count": 90,
   "id": "f2e78985-90e9-43f4-86c7-4950b3153307",
   "metadata": {},
   "outputs": [
    {
     "data": {
      "text/plain": [
       "60"
      ]
     },
     "execution_count": 90,
     "metadata": {},
     "output_type": "execute_result"
    }
   ],
   "source": [
    "# 1. Use reduce() to find the sum of all elements in a list.\n",
    "\n",
    "l1 = [23,14,2,15,6]\n",
    "o1 = reduce(lambda add,x: add+x, l1, 0)\n",
    "o1"
   ]
  },
  {
   "cell_type": "code",
   "execution_count": 100,
   "id": "15f091b9-63d8-46b0-ad83-0b32f6eb265f",
   "metadata": {},
   "outputs": [
    {
     "data": {
      "text/plain": [
       "21"
      ]
     },
     "execution_count": 100,
     "metadata": {},
     "output_type": "execute_result"
    }
   ],
   "source": [
    "# 2. Use reduce() to find the maximum number in a list.\n",
    "\n",
    "o2 = reduce(lambda a,b: a if a>b else b, l1)\n",
    "o2"
   ]
  },
  {
   "cell_type": "code",
   "execution_count": 94,
   "id": "1b484bfe-76b7-482a-8e04-dd61995368d3",
   "metadata": {},
   "outputs": [
    {
     "data": {
      "text/plain": [
       "57960"
      ]
     },
     "execution_count": 94,
     "metadata": {},
     "output_type": "execute_result"
    }
   ],
   "source": [
    "# 3. Use reduce() to find the product of all numbers in a list.\n",
    "\n",
    "o3 = reduce(lambda prod,x: prod*x, l1, 1)\n",
    "o3"
   ]
  },
  {
   "cell_type": "code",
   "execution_count": 95,
   "id": "0448483a-18ed-4efb-b352-31c6acd2868a",
   "metadata": {},
   "outputs": [
    {
     "data": {
      "text/plain": [
       "'hihellowelcome'"
      ]
     },
     "execution_count": 95,
     "metadata": {},
     "output_type": "execute_result"
    }
   ],
   "source": [
    "# 4. Use reduce() to concatenate all strings in a list into one long string.\n",
    "\n",
    "str2 = ['hi','hello','welcome']\n",
    "o4 = reduce(lambda new_str, org: new_str+org, str2, '')\n",
    "o4"
   ]
  },
  {
   "cell_type": "code",
   "execution_count": 97,
   "id": "0ab996d9-81cd-4862-ac54-447c47558cee",
   "metadata": {},
   "outputs": [
    {
     "data": {
      "text/plain": [
       "7"
      ]
     },
     "execution_count": 97,
     "metadata": {},
     "output_type": "execute_result"
    }
   ],
   "source": [
    "# 5. Given a list of integers, use reduce() to find the greatest common divisor (GCD).\n",
    "\n",
    "l1 = [7, 21, 14]\n",
    "o5 = reduce(math.gcd,l1)\n",
    "o5"
   ]
  },
  {
   "cell_type": "code",
   "execution_count": 99,
   "id": "10704dc0-bbc9-4fc2-b336-efd69c751323",
   "metadata": {},
   "outputs": [
    {
     "data": {
      "text/plain": [
       "5"
      ]
     },
     "execution_count": 99,
     "metadata": {},
     "output_type": "execute_result"
    }
   ],
   "source": [
    "# 6. Use reduce() to count how many times a specific element appears in a list.\n",
    "\n",
    "l6 = [2,1,3,4,1,1,5,6,1,7,1]\n",
    "count_1 = reduce(lambda count,x: count+1 if x==1 else count, l6, 0)\n",
    "count_1"
   ]
  },
  {
   "cell_type": "code",
   "execution_count": 105,
   "id": "e4c44123-bad9-4af6-a737-ef340c25bca2",
   "metadata": {},
   "outputs": [
    {
     "data": {
      "text/plain": [
       "'dragon fruit'"
      ]
     },
     "execution_count": 105,
     "metadata": {},
     "output_type": "execute_result"
    }
   ],
   "source": [
    "# 7. Use reduce() to find the longest string in a list.\n",
    "\n",
    "my_list = [\"apple\", \"banana\", \"cherry\", \"kiwi\", \"dragon fruit\"]\n",
    "longest = reduce(lambda x,y: x if len(x)>len(y) else y, my_list)\n",
    "longest"
   ]
  },
  {
   "cell_type": "code",
   "execution_count": 119,
   "id": "34461671-034e-4c66-9072-b934c764722c",
   "metadata": {},
   "outputs": [],
   "source": [
    "# 8. Use reduce() to merge a list of dictionaries into one dictionary.\n",
    "\n",
    "d1 = [{'a': 1, 'b': 2}, {'c': 3}, {'d': 4, 'e': 5}]"
   ]
  },
  {
   "cell_type": "code",
   "execution_count": 117,
   "id": "dbbbca21-b4fd-4e6f-a39d-987be1ce70fd",
   "metadata": {},
   "outputs": [],
   "source": [
    "# 9. Given a list of numbers, use reduce() to compute the cumulative sum (i.e., list of partial sums).\n"
   ]
  },
  {
   "cell_type": "code",
   "execution_count": 88,
   "id": "0e8ff078-de1e-445c-be36-1af9d0ddf49e",
   "metadata": {},
   "outputs": [],
   "source": [
    "# 10. Use reduce() to compute the difference between consecutive elements in a list."
   ]
  },
  {
   "cell_type": "code",
   "execution_count": null,
   "id": "63e9d4c1-2fb0-45bb-8985-7298e2403ec7",
   "metadata": {},
   "outputs": [],
   "source": []
  },
  {
   "cell_type": "code",
   "execution_count": null,
   "id": "3b19a9af-b58c-4934-9a3e-a393e30988a4",
   "metadata": {},
   "outputs": [],
   "source": []
  }
 ],
 "metadata": {
  "kernelspec": {
   "display_name": "Python 3 (ipykernel)",
   "language": "python",
   "name": "python3"
  },
  "language_info": {
   "codemirror_mode": {
    "name": "ipython",
    "version": 3
   },
   "file_extension": ".py",
   "mimetype": "text/x-python",
   "name": "python",
   "nbconvert_exporter": "python",
   "pygments_lexer": "ipython3",
   "version": "3.11.7"
  }
 },
 "nbformat": 4,
 "nbformat_minor": 5
}
