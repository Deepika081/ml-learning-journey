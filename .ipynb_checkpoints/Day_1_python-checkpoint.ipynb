{
 "cells": [
  {
   "cell_type": "markdown",
   "id": "2e57ab65-9bc9-46d3-a3bc-0ccb931e2f32",
   "metadata": {},
   "source": [
    "# Map, Reduce and Filter"
   ]
  },
  {
   "cell_type": "markdown",
   "id": "f54b65ca-1ac3-4df6-ba32-aa2619357635",
   "metadata": {},
   "source": [
    "**Map**\n",
    "\n",
    "- maps a collection to another collection object based on certain function\n",
    "\n",
    "- map(function,iterable_object)\n",
    "\n",
    "- Example:\n",
    "  \n",
    "    l = ['Apple', 'Banana']\n",
    "  \n",
    "    map(lambda x: x.upper(),l)"
   ]
  },
  {
   "cell_type": "code",
   "execution_count": 1,
   "id": "29c77e10-8c0f-4a1a-9117-d3ebf62c135a",
   "metadata": {},
   "outputs": [],
   "source": [
    "l1 = [1,2,3,4]"
   ]
  },
  {
   "cell_type": "code",
   "execution_count": 3,
   "id": "8c40ac1a-3e25-46ef-b648-d7d4304e36bb",
   "metadata": {},
   "outputs": [],
   "source": [
    "l2 = list(map(lambda x:x**2,l1))"
   ]
  },
  {
   "cell_type": "code",
   "execution_count": 4,
   "id": "d4e92008-2558-477e-b232-4fb4338dd91c",
   "metadata": {},
   "outputs": [
    {
     "data": {
      "text/plain": [
       "[1, 4, 9, 16]"
      ]
     },
     "execution_count": 4,
     "metadata": {},
     "output_type": "execute_result"
    }
   ],
   "source": [
    "l2"
   ]
  },
  {
   "cell_type": "markdown",
   "id": "47f9396e-720d-46ce-830c-4aa3785cf487",
   "metadata": {},
   "source": [
    "**Filter**\n",
    "\n",
    "- looks for a condition and then returns only those elements from the collection that satisfies the condition.\n",
    "\n",
    "- filter(func, data)\n",
    "\n",
    "**Reduce**\n",
    "\n",
    "- breaks the entire process into pair-wise operations and uses the result from each operation, with the successive element\n",
    "\n",
    "- reduce(func,data)"
   ]
  },
  {
   "cell_type": "code",
   "execution_count": 5,
   "id": "746728c9-2bcd-4167-a95a-f19ebecb4219",
   "metadata": {},
   "outputs": [],
   "source": [
    "l3 = list(map(lambda x: 3.14*x**2, [1,2,3,4,5]))"
   ]
  },
  {
   "cell_type": "code",
   "execution_count": 6,
   "id": "b55f9701-4735-4eca-9c92-54fac7332db3",
   "metadata": {},
   "outputs": [
    {
     "data": {
      "text/plain": [
       "[3.14, 12.56, 28.26, 50.24, 78.5]"
      ]
     },
     "execution_count": 6,
     "metadata": {},
     "output_type": "execute_result"
    }
   ],
   "source": [
    "l3"
   ]
  },
  {
   "cell_type": "code",
   "execution_count": 7,
   "id": "00457b6a-37cc-4bd7-b085-95d146e92f74",
   "metadata": {},
   "outputs": [],
   "source": [
    "#17:08"
   ]
  },
  {
   "cell_type": "code",
   "execution_count": null,
   "id": "b3069ef9-234d-43a8-b7b9-6d6293cdaf0a",
   "metadata": {},
   "outputs": [],
   "source": []
  }
 ],
 "metadata": {
  "kernelspec": {
   "display_name": "Python 3 (ipykernel)",
   "language": "python",
   "name": "python3"
  },
  "language_info": {
   "codemirror_mode": {
    "name": "ipython",
    "version": 3
   },
   "file_extension": ".py",
   "mimetype": "text/x-python",
   "name": "python",
   "nbconvert_exporter": "python",
   "pygments_lexer": "ipython3",
   "version": "3.11.7"
  }
 },
 "nbformat": 4,
 "nbformat_minor": 5
}
