{
 "cells": [
  {
   "cell_type": "markdown",
   "id": "2e57ab65-9bc9-46d3-a3bc-0ccb931e2f32",
   "metadata": {},
   "source": [
    "# Map, Reduce and Filter"
   ]
  },
  {
   "cell_type": "markdown",
   "id": "f54b65ca-1ac3-4df6-ba32-aa2619357635",
   "metadata": {},
   "source": [
    "**Map**\n",
    "\n",
    "- maps a collection to another collection object based on certain function\n",
    "\n",
    "- map(function,iterable_object)\n",
    "\n",
    "- Example:\n",
    "  \n",
    "    l = ['Apple', 'Banana']\n",
    "  \n",
    "    map(lambda x: x.upper(),l)"
   ]
  },
  {
   "cell_type": "code",
   "execution_count": 1,
   "id": "29c77e10-8c0f-4a1a-9117-d3ebf62c135a",
   "metadata": {},
   "outputs": [],
   "source": [
    "l1 = [1,2,3,4]"
   ]
  },
  {
   "cell_type": "code",
   "execution_count": 3,
   "id": "8c40ac1a-3e25-46ef-b648-d7d4304e36bb",
   "metadata": {},
   "outputs": [],
   "source": [
    "l2 = list(map(lambda x:x**2,l1))"
   ]
  },
  {
   "cell_type": "code",
   "execution_count": 4,
   "id": "d4e92008-2558-477e-b232-4fb4338dd91c",
   "metadata": {},
   "outputs": [
    {
     "data": {
      "text/plain": [
       "[1, 4, 9, 16]"
      ]
     },
     "execution_count": 4,
     "metadata": {},
     "output_type": "execute_result"
    }
   ],
   "source": [
    "l2"
   ]
  },
  {
   "cell_type": "markdown",
   "id": "47f9396e-720d-46ce-830c-4aa3785cf487",
   "metadata": {},
   "source": [
    "**Filter**\n",
    "\n",
    "- looks for a condition and then returns only those elements from the collection that satisfies the condition.\n",
    "\n",
    "- filter(func, data)\n",
    "\n",
    "**Reduce**\n",
    "\n",
    "- breaks the entire process into pair-wise operations and uses the result from each operation, with the successive element\n",
    "\n",
    "- reduce(func,data)"
   ]
  },
  {
   "cell_type": "code",
   "execution_count": 5,
   "id": "746728c9-2bcd-4167-a95a-f19ebecb4219",
   "metadata": {},
   "outputs": [],
   "source": [
    "l3 = list(map(lambda x: 3.14*x**2, [1,2,3,4,5]))"
   ]
  },
  {
   "cell_type": "code",
   "execution_count": 6,
   "id": "b55f9701-4735-4eca-9c92-54fac7332db3",
   "metadata": {},
   "outputs": [
    {
     "data": {
      "text/plain": [
       "[3.14, 12.56, 28.26, 50.24, 78.5]"
      ]
     },
     "execution_count": 6,
     "metadata": {},
     "output_type": "execute_result"
    }
   ],
   "source": [
    "l3"
   ]
  },
  {
   "cell_type": "code",
   "execution_count": 4,
   "id": "00457b6a-37cc-4bd7-b085-95d146e92f74",
   "metadata": {},
   "outputs": [
    {
     "data": {
      "text/plain": [
       "[32, 12]"
      ]
     },
     "execution_count": 4,
     "metadata": {},
     "output_type": "execute_result"
    }
   ],
   "source": [
    "list(filter(lambda x: x>10,[1,1,2,32,12,3]))"
   ]
  },
  {
   "cell_type": "code",
   "execution_count": 6,
   "id": "b3069ef9-234d-43a8-b7b9-6d6293cdaf0a",
   "metadata": {},
   "outputs": [
    {
     "data": {
      "text/plain": [
       "['Deepika', 'Hello', 1, 2, 3]"
      ]
     },
     "execution_count": 6,
     "metadata": {},
     "output_type": "execute_result"
    }
   ],
   "source": [
    "# getting rid of null using filter\n",
    "\n",
    "list(filter(None, ['Deepika','Hello',0,0.0,'',1,2,3]))"
   ]
  },
  {
   "cell_type": "markdown",
   "id": "ff08254e-97f7-410a-9d15-b2a41b786dc7",
   "metadata": {},
   "source": [
    "- reduce has been deprecated from python\n",
    "\n",
    "- we need to use a function called functools"
   ]
  },
  {
   "cell_type": "code",
   "execution_count": 7,
   "id": "99426539-6b2a-4922-b8eb-9a1ab359a4fe",
   "metadata": {},
   "outputs": [],
   "source": [
    "from functools import reduce"
   ]
  },
  {
   "cell_type": "code",
   "execution_count": 8,
   "id": "9a212974-5a8e-4876-afeb-4d8082c5cbc4",
   "metadata": {},
   "outputs": [
    {
     "data": {
      "text/plain": [
       "120"
      ]
     },
     "execution_count": 8,
     "metadata": {},
     "output_type": "execute_result"
    }
   ],
   "source": [
    "reduce(lambda x,y: x*y, [1,2,3,4,5])"
   ]
  },
  {
   "cell_type": "markdown",
   "id": "ee8c2386-8e0f-4d97-ae73-22196044adbb",
   "metadata": {},
   "source": [
    "### When to use what"
   ]
  },
  {
   "cell_type": "markdown",
   "id": "23b77eeb-e034-4fbd-bb9b-01c5f95b2fff",
   "metadata": {},
   "source": [
    "**Map**\n",
    "\n",
    "- to map function with every element of a list or any iterable\n",
    "\n",
    "- similar to loop but simpler one\n",
    "\n",
    "**Filter**\n",
    "\n",
    "- to filter out data which we want\n",
    "\n",
    "- a combination of loop and conditional statement\n",
    "\n",
    "**Reduce**\n",
    "\n",
    "- reduces the list into one single output"
   ]
  },
  {
   "cell_type": "markdown",
   "id": "8f6a339e-a35a-45e4-b5e4-2ac138d5ae68",
   "metadata": {},
   "source": [
    "**Something useful which i found from chatgpt**\n",
    "\n",
    "- Prompt: okay, you are a data scientist, on day basis in which type of situations do you use these functions. seperately and all at once\n",
    "\n",
    "- Output\n",
    "\n",
    "🗺️ 1. map() → transforming or cleaning data\n",
    "\n",
    "When I use it:\n",
    "\n",
    "Whenever I need to apply the same operation to every item in a dataset column.\n",
    "\n",
    "💼 Real example:\n",
    "\n",
    "I have a dataset of customer names:\n",
    "    \n",
    "[\"alice smith\", \"bob JOHNSON\", \"carol King\"]\n",
    "    \n",
    "I want all names to look consistent (proper case).\n",
    "    \n",
    "I use map() to apply a format_name() function to every name.\n",
    "\n",
    "✅ Use case: Data cleaning, feature transformation, text formatting, unit conversions\n",
    "    \n",
    "🧠 Example in projects:\n",
    "\n",
    "Converting all temperatures from Fahrenheit to Celsius\n",
    "\n",
    "Lowercasing all product reviews before doing NLP\n",
    "\n",
    "Applying log transformation to a numeric feature\n",
    "\n",
    "🔍 2. filter() → selecting relevant data\n",
    "\n",
    "When I use it:\n",
    "    \n",
    "Whenever I need to keep only certain rows based on a condition.\n",
    "\n",
    "💼 Real example:\n",
    "\n",
    "In an e-commerce dataset, I only want orders worth more than ₹1000.\n",
    "    \n",
    "I use filter() with a condition that checks if the order amount > 1000.\n",
    "\n",
    "✅ Use case: Data filtering, removing noise, selecting high-quality samples\n",
    "    \n",
    "🧠 Example in projects:\n",
    "\n",
    "Keeping customers who made at least 2 purchases\n",
    "\n",
    "Filtering out missing or invalid entries\n",
    "\n",
    "Selecting tweets that contain a certain keyword\n",
    "\n",
    "➕ 3. reduce() → aggregating or summarizing data\n",
    "\n",
    "When I use it:\n",
    "    \n",
    "When I need to combine multiple values into one — like summing, averaging, or merging.\n",
    "\n",
    "💼 Real example:\n",
    "\n",
    "After cleaning data, I want the total revenue of all orders.\n",
    "    \n",
    "I use reduce() with a function that adds up all order amounts.\n",
    "\n",
    "✅ Use case: Calculating totals, combining results, computing cumulative metrics\n",
    "    \n",
    "🧠 Example in projects:\n",
    "\n",
    "Total revenue, total clicks, total time spent by users\n",
    "\n",
    "Merging multiple dictionaries (e.g., user data from different sources)\n",
    "\n",
    "Computing aggregate statistics when pandas isn’t available\n",
    "\n",
    "🔁 Using all three together — the real magic\n",
    "    \n",
    "⚙️ Scenario: Daily data processing pipeline\n",
    "\n",
    "Imagine I’m analyzing daily sales data for an online store.\n",
    "\n",
    "Here’s how I might use all three:\n",
    "\n",
    "map() → clean & transform\n",
    "    \n",
    "Convert each order amount from dollars to rupees.\n",
    "\n",
    "filter() → keep relevant data\n",
    "    \n",
    "Keep only orders above ₹1000 (ignore small ones).\n",
    "\n",
    "reduce() → summarize\n",
    "    \n",
    "Add them all up to get the total high-value sales for the day.\n",
    "\n",
    "So, the flow looks like this:\n",
    "    \n",
    "raw data → map (clean) → filter (select) → reduce (summarize)"
   ]
  },
  {
   "cell_type": "markdown",
   "id": "789331a6-53f6-491c-96c5-f4133ee26f5f",
   "metadata": {},
   "source": [
    "## File Handling"
   ]
  },
  {
   "cell_type": "markdown",
   "id": "e4be4681-f1e0-4c08-a4d5-903809897871",
   "metadata": {},
   "source": [
    "- Basic functions:\n",
    "    - open(), read(), close()\n",
    "\n",
    "- when you open a file: a session is created and it will be active till .close() is called"
   ]
  },
  {
   "cell_type": "markdown",
   "id": "29b03020-15ce-42e4-a7cb-1c36b450ee87",
   "metadata": {},
   "source": [
    "**Reading a file**"
   ]
  },
  {
   "cell_type": "code",
   "execution_count": 17,
   "id": "90611a54-1402-455e-a4cc-e780fb56e9af",
   "metadata": {},
   "outputs": [
    {
     "name": "stdout",
     "output_type": "stream",
     "text": [
      "hi everyone,\n",
      "\n",
      "This is Deepika\n",
      "\n",
      "Welcome to Day 1\n",
      "\n",
      "Hope you are doing well\n",
      "hi everyone,\n",
      "This is Deepika\n",
      "Welcome to Day 1\n",
      "Hope you are doing well\n"
     ]
    }
   ],
   "source": [
    "file = open('Demo_file_handling.txt', 'r')\n",
    "for line in file:\n",
    "    print(line)\n",
    "file.seek(0)\n",
    "print(file.read())\n",
    "# open(\n",
    "#     file,\n",
    "#     mode='r',\n",
    "#     buffering=-1,\n",
    "#     encoding=None,\n",
    "#     errors=None,\n",
    "#     newline=None,\n",
    "#     closefd=True,\n",
    "#     opener=None,\n",
    "# )"
   ]
  },
  {
   "cell_type": "markdown",
   "id": "5a9bc8b7-4927-4fc2-b1cc-feefccdda37d",
   "metadata": {},
   "source": [
    "- in above code when executed without .seek() it only prints 1 time\n",
    "\n",
    "**WHY**\n",
    "\n",
    "- Python creates a file pointer(cursor) when a file is opened in read mode.\n",
    "\n",
    "- so when for loop is executed the file pointer reads all the lines and by the end of last iteration it points to EOF\n",
    "\n",
    "- This is why file.read() doesnot print any output as the file pointer is pointed at EOF\n",
    "\n",
    "- to avoid this i used .seek() --> this resets the file pointer to starting of file\n",
    "\n",
    "- But in real time use any one method:\n",
    "    - either for loop\n",
    "    - or file.read()"
   ]
  },
  {
   "cell_type": "code",
   "execution_count": 23,
   "id": "2ff1590e-52fc-4d4b-93a1-66025333fc37",
   "metadata": {},
   "outputs": [
    {
     "name": "stdout",
     "output_type": "stream",
     "text": [
      "hi ev\n",
      "eryone,\n",
      "\n",
      "Th\n"
     ]
    }
   ],
   "source": [
    "file.seek(0)\n",
    "print(file.read(5)) #reads and returns given number of characters from entire file\n",
    "print(file.readline()) #reads only 1 line and give required characters from that single line, not entire file\n",
    "print(file.readline(2))"
   ]
  },
  {
   "cell_type": "markdown",
   "id": "52307d4a-d7a8-42eb-9e18-232244b2c6e8",
   "metadata": {},
   "source": [
    "**Writing a file**"
   ]
  },
  {
   "cell_type": "code",
   "execution_count": 25,
   "id": "4dfc7987-da4f-401e-a745-73f18ff3391b",
   "metadata": {},
   "outputs": [],
   "source": [
    "file = open('Demo_file_handling.txt','w')\n",
    "file.write('Hey, this is write operation')\n",
    "file.close()"
   ]
  },
  {
   "cell_type": "code",
   "execution_count": 28,
   "id": "e6acbf8a-feaa-4b69-9f02-9634fd97a33f",
   "metadata": {},
   "outputs": [
    {
     "name": "stdout",
     "output_type": "stream",
     "text": [
      "Hey, this is write operation\n"
     ]
    }
   ],
   "source": [
    "file = open('Demo_file_handling.txt','r')\n",
    "print(file.read())"
   ]
  },
  {
   "cell_type": "markdown",
   "id": "edf96584-5208-4adc-bded-1123f4cf385d",
   "metadata": {},
   "source": [
    "- write operation overrides the existing content\n",
    "\n",
    "- and always close a file after performing write operation.\n",
    "\n",
    "- Reopen it when performing read"
   ]
  },
  {
   "cell_type": "markdown",
   "id": "1b3ba15c-f7f6-4859-a4fb-2c32fde92a6b",
   "metadata": {},
   "source": [
    "**Append operation**"
   ]
  },
  {
   "cell_type": "code",
   "execution_count": 33,
   "id": "10de24f5-0334-44b8-bac8-52127a991eef",
   "metadata": {},
   "outputs": [],
   "source": [
    "with open('Demo_file_handling.txt', 'a') as file:\n",
    "    file.write('This is appended text')\n",
    "    file.write('\\n')\n",
    "    file.write('Hi')"
   ]
  },
  {
   "cell_type": "code",
   "execution_count": 36,
   "id": "9d6a2d81-57ae-4d6e-a72a-b7036d4bd420",
   "metadata": {},
   "outputs": [
    {
     "name": "stdout",
     "output_type": "stream",
     "text": [
      "Hey, this is write operationThis is appended textThis is appended text\n",
      "\n",
      "Heloo everyoneThis is appended text\n",
      "\n",
      "Hi\n"
     ]
    }
   ],
   "source": [
    "file = open('Demo_file_handling.txt','r')\n",
    "for i in file:\n",
    "    print(i)"
   ]
  },
  {
   "cell_type": "code",
   "execution_count": null,
   "id": "0436ee6e-6ad4-4e81-ac72-af782f1215b5",
   "metadata": {},
   "outputs": [],
   "source": []
  }
 ],
 "metadata": {
  "kernelspec": {
   "display_name": "Python 3 (ipykernel)",
   "language": "python",
   "name": "python3"
  },
  "language_info": {
   "codemirror_mode": {
    "name": "ipython",
    "version": 3
   },
   "file_extension": ".py",
   "mimetype": "text/x-python",
   "name": "python",
   "nbconvert_exporter": "python",
   "pygments_lexer": "ipython3",
   "version": "3.11.7"
  }
 },
 "nbformat": 4,
 "nbformat_minor": 5
}
