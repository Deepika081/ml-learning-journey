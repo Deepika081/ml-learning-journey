{
 "cells": [
  {
   "cell_type": "markdown",
   "id": "7e6186fb-a900-4a23-ab73-825610d2c401",
   "metadata": {},
   "source": [
    "## Object-oriented Programming (OOPs)"
   ]
  },
  {
   "cell_type": "markdown",
   "id": "e3e870f6-80d9-404d-8622-ed0bd7a82a3f",
   "metadata": {},
   "source": [
    "- OOP is a way of writing programs\n",
    "- It represents real world entities as objects and classes\n",
    "- Every object has:\n",
    "    - Attribute (a variable)\n",
    "    - method"
   ]
  },
  {
   "cell_type": "markdown",
   "id": "8eca6273-c0fc-45e5-8850-baef02662463",
   "metadata": {},
   "source": [
    "**Class**\n",
    "\n",
    "- Classes are like blueprint to create an object\n",
    "  \n",
    "- Syntax:\n",
    "    - class ClassName:\n",
    "      \n",
    "- '__init__' method initializes the attributes when a new object is created\n",
    "  \n",
    "- It is automatically called whenever new object is created\n",
    "\n",
    "**Object**\n",
    "\n",
    "- It is an instance of a class\n",
    "  \n",
    "- object instantiation:\n",
    "    - object_name = ClassName(attributes)\n",
    "      \n",
    "- **self** parameter allows an object to access the attributes and methods"
   ]
  },
  {
   "cell_type": "code",
   "execution_count": 2,
   "id": "902165dd-948b-4bb6-a605-419826023faa",
   "metadata": {},
   "outputs": [
    {
     "name": "stdout",
     "output_type": "stream",
     "text": [
      "<__main__.Car object at 0x0000021F4B8B4A90>\n"
     ]
    }
   ],
   "source": [
    "# class syntax\n",
    "class Car:\n",
    "    brand = None\n",
    "    model = None\n",
    "# my_car is object and Car is class\n",
    "my_car = Car()\n",
    "print(my_car)"
   ]
  },
  {
   "cell_type": "code",
   "execution_count": 5,
   "id": "7e985eb0-6891-41bb-8118-471e7cd56477",
   "metadata": {},
   "outputs": [
    {
     "name": "stdout",
     "output_type": "stream",
     "text": [
      "Toyota\n",
      "Corolla\n"
     ]
    }
   ],
   "source": [
    "class Car1():\n",
    "    def __init__(self, brand, model):\n",
    "        self.brand = brand\n",
    "        self.model = model\n",
    "\n",
    "my_car1 = Car1('Toyota', 'Corolla')\n",
    "print(my_car1.brand)\n",
    "print(my_car1.model)"
   ]
  },
  {
   "cell_type": "markdown",
   "id": "03dd0f55-ac31-448e-9e91-8b66cec94914",
   "metadata": {},
   "source": [
    "Add a method to the car class that displays the full name of the car(brand and model)"
   ]
  },
  {
   "cell_type": "code",
   "execution_count": 9,
   "id": "420b05eb-a3ec-4cff-a47e-f04ad90352fe",
   "metadata": {},
   "outputs": [
    {
     "name": "stdout",
     "output_type": "stream",
     "text": [
      "Brand: Toyota Model: Corolla\n"
     ]
    }
   ],
   "source": [
    "class Car2():\n",
    "    def __init__(self, brand, model):\n",
    "        self.brand = brand\n",
    "        self.model = model\n",
    "\n",
    "    def full_name(self):\n",
    "        print(f'Brand: {self.brand} Model: {self.model}')\n",
    "\n",
    "my_car2 = Car2('Toyota', 'Corolla')\n",
    "#print(my_car2.brand)\n",
    "#print(my_car2.model)\n",
    "my_car2.full_name()"
   ]
  },
  {
   "cell_type": "markdown",
   "id": "dc431065-d219-4d75-be9e-923060fefea0",
   "metadata": {},
   "source": [
    "Create an ElectricCar class that inherits from the Car class and has an additional atrribute battery_size"
   ]
  },
  {
   "cell_type": "code",
   "execution_count": 11,
   "id": "6bda2625-d617-4253-97ee-b1759dbb40a9",
   "metadata": {},
   "outputs": [
    {
     "name": "stdout",
     "output_type": "stream",
     "text": [
      "Model S\n",
      "Brand: Tesla Model: Model S\n"
     ]
    }
   ],
   "source": [
    "class ElectricCar(Car2):\n",
    "    def __init__(self, brand, model, battery_size):\n",
    "        super().__init__(brand, model)\n",
    "        self.battery_size = battery_size\n",
    "\n",
    "my_tesla = ElectricCar('Tesla', 'Model S', '85kWH')\n",
    "print(my_tesla.model)\n",
    "my_tesla.full_name()"
   ]
  },
  {
   "cell_type": "markdown",
   "id": "90f4d504-c379-49ba-b6b4-292851eecc64",
   "metadata": {},
   "source": [
    "Modify the Car class to encapsulation the brand attribute , making it private, and provide a getter method for it"
   ]
  },
  {
   "cell_type": "code",
   "execution_count": 13,
   "id": "4dd64ebb-ffe1-49cd-8a22-0bf3ae7c9591",
   "metadata": {},
   "outputs": [],
   "source": [
    "class Car2():\n",
    "    def __init__(self, brand, model):\n",
    "        self.__brand = brand\n",
    "        self.model = model\n",
    "\n",
    "    def get_brand(self):\n",
    "        return self.__brand\n",
    "\n",
    "    def full_name(self):\n",
    "        print(f'Brand: {self.__brand} Model: {self.model}')"
   ]
  },
  {
   "cell_type": "code",
   "execution_count": 15,
   "id": "9c3b50cc-df3f-49b3-9f4b-4392850bac41",
   "metadata": {},
   "outputs": [],
   "source": [
    "my_car3 = Car2('Tata', 'Safari')"
   ]
  },
  {
   "cell_type": "code",
   "execution_count": 16,
   "id": "d6fd5855-863d-47f8-8f97-fab9667d0dd5",
   "metadata": {},
   "outputs": [
    {
     "ename": "AttributeError",
     "evalue": "'Car2' object has no attribute 'brand'",
     "output_type": "error",
     "traceback": [
      "\u001b[1;31m---------------------------------------------------------------------------\u001b[0m",
      "\u001b[1;31mAttributeError\u001b[0m                            Traceback (most recent call last)",
      "Cell \u001b[1;32mIn[16], line 1\u001b[0m\n\u001b[1;32m----> 1\u001b[0m \u001b[38;5;28mprint\u001b[39m(my_car3\u001b[38;5;241m.\u001b[39mbrand)\n",
      "\u001b[1;31mAttributeError\u001b[0m: 'Car2' object has no attribute 'brand'"
     ]
    }
   ],
   "source": [
    "print(my_car3.brand)"
   ]
  },
  {
   "cell_type": "code",
   "execution_count": 17,
   "id": "75d8e047-c423-41ee-93b2-dbe9ad940e8b",
   "metadata": {},
   "outputs": [
    {
     "ename": "AttributeError",
     "evalue": "'Car2' object has no attribute '__brand'",
     "output_type": "error",
     "traceback": [
      "\u001b[1;31m---------------------------------------------------------------------------\u001b[0m",
      "\u001b[1;31mAttributeError\u001b[0m                            Traceback (most recent call last)",
      "Cell \u001b[1;32mIn[17], line 1\u001b[0m\n\u001b[1;32m----> 1\u001b[0m \u001b[38;5;28mprint\u001b[39m(my_car3\u001b[38;5;241m.\u001b[39m__brand)\n",
      "\u001b[1;31mAttributeError\u001b[0m: 'Car2' object has no attribute '__brand'"
     ]
    }
   ],
   "source": [
    "print(my_car3.__brand)"
   ]
  },
  {
   "cell_type": "code",
   "execution_count": 18,
   "id": "e6ac1e7b-2210-4880-bccb-dd6a4813de13",
   "metadata": {},
   "outputs": [
    {
     "name": "stdout",
     "output_type": "stream",
     "text": [
      "Tata\n"
     ]
    }
   ],
   "source": [
    "print(my_car3.get_brand())"
   ]
  },
  {
   "cell_type": "markdown",
   "id": "29c5ebe8-58b9-43ca-a613-2622b69b786d",
   "metadata": {},
   "source": [
    "- to make any variable private, just add 2 underscores infront of it.\n",
    "- like in this example we created a private variable __brand"
   ]
  },
  {
   "cell_type": "markdown",
   "id": "07a003eb-d641-4e67-972a-2875bdd2b60c",
   "metadata": {},
   "source": [
    "Demonstrate polymorphism by defining a method fuel_type in both Car and ElectricCar classes, but with different behaviors"
   ]
  },
  {
   "cell_type": "code",
   "execution_count": 96,
   "id": "52f88fe7-e907-4694-a669-5c2af0e122f5",
   "metadata": {},
   "outputs": [],
   "source": [
    "class Car2():\n",
    "    def __init__(self, brand, model):\n",
    "        self.__brand = brand\n",
    "        self.model = model\n",
    "\n",
    "    def get_brand(self):\n",
    "        return self.__brand\n",
    "\n",
    "    def full_name(self):\n",
    "        print(f'Brand: {self.__brand} Model: {self.model}')\n",
    "\n",
    "    def fuel_type(self):\n",
    "        return \"Petrol or Diesel\""
   ]
  },
  {
   "cell_type": "code",
   "execution_count": 97,
   "id": "dbef0965-aa49-4892-8e1a-19fc49b600e9",
   "metadata": {},
   "outputs": [],
   "source": [
    "class ElectricCar(Car2):\n",
    "    def __init__(self, brand, model, battery_size):\n",
    "        super().__init__(brand, model)\n",
    "        self.battery_size = battery_size\n",
    "\n",
    "    def fuel_type(self):\n",
    "        return 'Electric charge'"
   ]
  },
  {
   "cell_type": "code",
   "execution_count": 98,
   "id": "30de54d1-8571-4e13-948b-c37b4a568451",
   "metadata": {},
   "outputs": [],
   "source": [
    "my_tesla1 = ElectricCar('Tesla', 'Model S', '85kWH')\n",
    "safari = Car2('Tata', 'Safari')"
   ]
  },
  {
   "cell_type": "code",
   "execution_count": 99,
   "id": "c23a38cd-34e8-4825-b148-eedd450cab10",
   "metadata": {},
   "outputs": [
    {
     "name": "stdout",
     "output_type": "stream",
     "text": [
      "True\n",
      "True\n"
     ]
    }
   ],
   "source": [
    "print(isinstance(my_tesla1, ElectricCar))\n",
    "print(isinstance(my_tesla1, Car2))"
   ]
  },
  {
   "cell_type": "code",
   "execution_count": 23,
   "id": "3dd9d453-758b-4df0-95ee-29f382731800",
   "metadata": {},
   "outputs": [
    {
     "name": "stdout",
     "output_type": "stream",
     "text": [
      "Electric charge\n",
      "Petrol or Diesel\n"
     ]
    }
   ],
   "source": [
    "print(my_tesla1.fuel_type())\n",
    "print(safari.fuel_type())"
   ]
  },
  {
   "cell_type": "markdown",
   "id": "7bb69b2a-a7e2-4d98-8c41-3ee43a4ddb78",
   "metadata": {},
   "source": [
    "Add a class variable to Car that keeps the track of the number of cars created"
   ]
  },
  {
   "cell_type": "code",
   "execution_count": 40,
   "id": "34dae87f-d972-47fa-8fb2-8076d9530f21",
   "metadata": {},
   "outputs": [],
   "source": [
    "class Car2():\n",
    "    total_car = 0\n",
    "    \n",
    "    def __init__(self, brand, model):\n",
    "        self.__brand = brand\n",
    "        self.model = model\n",
    "        Car2.total_car += 1\n",
    "\n",
    "    def get_brand(self):\n",
    "        return self.__brand\n",
    "\n",
    "    def full_name(self):\n",
    "        print(f'Brand: {self.__brand} Model: {self.model}')\n",
    "\n",
    "    def fuel_type(self):\n",
    "        return \"Petrol or Diesel\""
   ]
  },
  {
   "cell_type": "code",
   "execution_count": 91,
   "id": "5a898609-ce24-4715-8f60-2a995c802db3",
   "metadata": {},
   "outputs": [],
   "source": [
    "my_car3 = Car2('Tata', 'Safari')\n",
    "safari = Car2('Tata', 'Safari')\n",
    "my_tesla1 = ElectricCar('Tesla', 'Model S', '85kWH')"
   ]
  },
  {
   "cell_type": "code",
   "execution_count": 43,
   "id": "7e8038fc-a445-4370-b457-f0abe413c87e",
   "metadata": {},
   "outputs": [
    {
     "data": {
      "text/plain": [
       "2"
      ]
     },
     "execution_count": 43,
     "metadata": {},
     "output_type": "execute_result"
    }
   ],
   "source": [
    "Car2.total_car"
   ]
  },
  {
   "cell_type": "markdown",
   "id": "9b40a96f-6cc8-4f74-8682-5d2eca781543",
   "metadata": {},
   "source": [
    "Add a static method to the Car class that returns a general description of a car\n",
    "\n",
    "- **static method:** a method that belongs to a class rather than an instance of the class"
   ]
  },
  {
   "cell_type": "code",
   "execution_count": 60,
   "id": "f1ddc455-f4ee-419b-85af-9cf4969512b0",
   "metadata": {},
   "outputs": [],
   "source": [
    "class Car3():\n",
    "    total_car = 0\n",
    "    \n",
    "    def __init__(self, brand, model):\n",
    "        self.__brand = brand\n",
    "        self.model = model\n",
    "        Car3.total_car += 1\n",
    "\n",
    "    def get_brand(self):\n",
    "        return self.__brand\n",
    "\n",
    "    def full_name(self):\n",
    "        print(f'Brand: {self.__brand} Model: {self.model}')\n",
    "\n",
    "    def fuel_type(self):\n",
    "        return \"Petrol or Diesel\"\n",
    "\n",
    "    @staticmethod\n",
    "    def general_description():\n",
    "        return 'Cars are amazing'"
   ]
  },
  {
   "cell_type": "code",
   "execution_count": 61,
   "id": "8beb3ad6-0f5f-49cf-bee3-d1a296af6f28",
   "metadata": {},
   "outputs": [],
   "source": [
    "my_car5 = Car3('Tata', 'Safari')"
   ]
  },
  {
   "cell_type": "code",
   "execution_count": 62,
   "id": "e0e2ae0c-964f-4445-8626-425d481f546a",
   "metadata": {},
   "outputs": [
    {
     "name": "stdout",
     "output_type": "stream",
     "text": [
      "Cars are amazing\n"
     ]
    }
   ],
   "source": [
    "print(my_car5.general_description())"
   ]
  },
  {
   "cell_type": "code",
   "execution_count": 63,
   "id": "4e53f124-6604-443a-96a1-712c97111c5c",
   "metadata": {},
   "outputs": [
    {
     "name": "stdout",
     "output_type": "stream",
     "text": [
      "Cars are amazing\n"
     ]
    }
   ],
   "source": [
    "print(Car2.general_description())"
   ]
  },
  {
   "cell_type": "markdown",
   "id": "c07f1882-3c42-410b-9982-03dba8ea6b3b",
   "metadata": {},
   "source": [
    "- Static methods can be accessed by both class and object\n",
    "\n",
    "- Python doesnot block access, it just ignores the object when running static methods\n",
    "\n",
    "- But it is not recommended\n",
    "\n",
    "- So whenever you want to call a static method do it with class only"
   ]
  },
  {
   "cell_type": "markdown",
   "id": "c82fe70e-12ee-4125-bc7b-b4f454df36db",
   "metadata": {},
   "source": [
    "Use a property decorator in the Car class to make the model attribute read-only"
   ]
  },
  {
   "cell_type": "code",
   "execution_count": 78,
   "id": "ccdff02c-154b-4f4a-8ec6-1d2ebd559584",
   "metadata": {},
   "outputs": [],
   "source": [
    "class Car3():\n",
    "    total_car = 0\n",
    "    \n",
    "    def __init__(self, brand, model):\n",
    "        self.__brand = brand\n",
    "        self.__model = model\n",
    "        Car3.total_car += 1\n",
    "\n",
    "    def get_brand(self):\n",
    "        return self.__brand\n",
    "\n",
    "    def full_name(self):\n",
    "        print(f'Brand: {self.__brand} Model: {self.__model}')\n",
    "\n",
    "    def fuel_type(self):\n",
    "        return \"Petrol or Diesel\"\n",
    "\n",
    "    @staticmethod\n",
    "    def general_description():\n",
    "        return 'Cars are amazing'\n",
    "\n",
    "    @property\n",
    "    def model(self):\n",
    "        return self.__model"
   ]
  },
  {
   "cell_type": "code",
   "execution_count": 79,
   "id": "ca718baf-0082-4298-8194-b795a14dd619",
   "metadata": {},
   "outputs": [],
   "source": [
    "my_car6 = Car3('Tata','Safari')"
   ]
  },
  {
   "cell_type": "code",
   "execution_count": 86,
   "id": "83b28523-66db-4fc0-b95d-a75eac0e8deb",
   "metadata": {},
   "outputs": [
    {
     "ename": "AttributeError",
     "evalue": "property 'model' of 'Car3' object has no setter",
     "output_type": "error",
     "traceback": [
      "\u001b[1;31m---------------------------------------------------------------------------\u001b[0m",
      "\u001b[1;31mAttributeError\u001b[0m                            Traceback (most recent call last)",
      "Cell \u001b[1;32mIn[86], line 1\u001b[0m\n\u001b[1;32m----> 1\u001b[0m my_car6\u001b[38;5;241m.\u001b[39mmodel \u001b[38;5;241m=\u001b[39m \u001b[38;5;124m'\u001b[39m\u001b[38;5;124mCity\u001b[39m\u001b[38;5;124m'\u001b[39m\n",
      "\u001b[1;31mAttributeError\u001b[0m: property 'model' of 'Car3' object has no setter"
     ]
    }
   ],
   "source": [
    "my_car6.model = 'City'"
   ]
  },
  {
   "cell_type": "code",
   "execution_count": 88,
   "id": "ac6a55bb-cd5c-4857-98e9-8f29ffb9f3e3",
   "metadata": {},
   "outputs": [
    {
     "data": {
      "text/plain": [
       "'Safari'"
      ]
     },
     "execution_count": 88,
     "metadata": {},
     "output_type": "execute_result"
    }
   ],
   "source": [
    "my_car6.model"
   ]
  },
  {
   "cell_type": "markdown",
   "id": "415d0678-6bb4-4f54-8520-d1b8552e1c8e",
   "metadata": {},
   "source": [
    "Demonstrate the use of isinstance() to check it my_tesla is an instance of Car and ElectricCar"
   ]
  },
  {
   "cell_type": "code",
   "execution_count": 100,
   "id": "2f7c9709-6101-45ff-aa66-5ac84e0ffdd2",
   "metadata": {},
   "outputs": [
    {
     "name": "stdout",
     "output_type": "stream",
     "text": [
      "True\n",
      "True\n"
     ]
    }
   ],
   "source": [
    "print(isinstance(my_tesla1, Car2))\n",
    "print(isinstance(my_tesla1, ElectricCar))"
   ]
  },
  {
   "cell_type": "markdown",
   "id": "22b9b0a5-fa07-44e3-b756-6d9065d472d3",
   "metadata": {},
   "source": [
    "Create two classes Battery and Engine, and let the ElectricCar class inherit from both, demonstrating multiple inheritance"
   ]
  },
  {
   "cell_type": "code",
   "execution_count": 101,
   "id": "67ad6591-2f13-41a7-b563-1da39318cfea",
   "metadata": {},
   "outputs": [],
   "source": [
    "class Battery:\n",
    "    def battery_info(self):\n",
    "        return 'This is battery'\n",
    "\n",
    "class Engine:\n",
    "    def engine_info(self):\n",
    "        return 'This is engine'\n",
    "\n",
    "class ElectricCar2(Battery, Engine, Car3):\n",
    "    pass"
   ]
  },
  {
   "cell_type": "code",
   "execution_count": 102,
   "id": "329417a6-82c3-4c12-9ded-f4efa12300b3",
   "metadata": {},
   "outputs": [],
   "source": [
    "my_new_car = ElectricCar2('Tesla', 'Model S')"
   ]
  },
  {
   "cell_type": "code",
   "execution_count": 103,
   "id": "a6c1a597-0bf7-4c63-8406-54510cfd3dab",
   "metadata": {},
   "outputs": [
    {
     "name": "stdout",
     "output_type": "stream",
     "text": [
      "This is battery\n"
     ]
    }
   ],
   "source": [
    "print(my_new_car.battery_info())"
   ]
  },
  {
   "cell_type": "code",
   "execution_count": 104,
   "id": "6d0418e2-624a-4e7e-8706-362771b5cca0",
   "metadata": {},
   "outputs": [
    {
     "name": "stdout",
     "output_type": "stream",
     "text": [
      "This is engine\n"
     ]
    }
   ],
   "source": [
    "print(my_new_car.engine_info())"
   ]
  },
  {
   "cell_type": "code",
   "execution_count": null,
   "id": "674fb988-fe58-406a-ac33-7b05eebc269c",
   "metadata": {},
   "outputs": [],
   "source": []
  }
 ],
 "metadata": {
  "kernelspec": {
   "display_name": "Python 3 (ipykernel)",
   "language": "python",
   "name": "python3"
  },
  "language_info": {
   "codemirror_mode": {
    "name": "ipython",
    "version": 3
   },
   "file_extension": ".py",
   "mimetype": "text/x-python",
   "name": "python",
   "nbconvert_exporter": "python",
   "pygments_lexer": "ipython3",
   "version": "3.11.7"
  }
 },
 "nbformat": 4,
 "nbformat_minor": 5
}
