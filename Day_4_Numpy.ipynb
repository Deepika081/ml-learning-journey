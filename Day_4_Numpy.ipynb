{
 "cells": [
  {
   "cell_type": "markdown",
   "id": "673f62fa-c74a-49ec-b6bb-bccde4d56a27",
   "metadata": {},
   "source": [
    "- Python is slow\n",
    "\n",
    "- But numpy is made in C which makes it faster\n",
    "\n",
    "- Topics covered:\n",
    "    - Variables\n",
    "    - Data types\n",
    "    - Lists\n",
    "    - Loops\n",
    "    - Functions\n",
    "    - Indexing"
   ]
  },
  {
   "cell_type": "code",
   "execution_count": 3,
   "id": "7aeacbbe-e0aa-49ea-b26c-008b0f3eecd0",
   "metadata": {},
   "outputs": [],
   "source": [
    "import numpy as np # you need to install it through terminal"
   ]
  },
  {
   "cell_type": "code",
   "execution_count": 5,
   "id": "cb4b3da1-ad13-4e5f-9aa5-d9d604eab049",
   "metadata": {},
   "outputs": [],
   "source": [
    "my_list = [1,2,3,4]"
   ]
  },
  {
   "cell_type": "code",
   "execution_count": 6,
   "id": "aac49e87-2ba2-4500-bc4e-0912637e6ec7",
   "metadata": {},
   "outputs": [
    {
     "name": "stdout",
     "output_type": "stream",
     "text": [
      "[1, 2, 3, 4]\n"
     ]
    }
   ],
   "source": [
    "print(my_list)"
   ]
  },
  {
   "cell_type": "code",
   "execution_count": 14,
   "id": "a6d8600e-45ac-4605-813e-4d7bfd09f406",
   "metadata": {},
   "outputs": [],
   "source": [
    "array = np.array([1,2,3,4]) # this is array"
   ]
  },
  {
   "cell_type": "code",
   "execution_count": 15,
   "id": "c0f1d326-1d0d-43f3-b6e6-522893f01e55",
   "metadata": {},
   "outputs": [
    {
     "name": "stdout",
     "output_type": "stream",
     "text": [
      "[1 2 3 4]\n"
     ]
    }
   ],
   "source": [
    "print(array)"
   ]
  },
  {
   "cell_type": "code",
   "execution_count": 16,
   "id": "dabbae1f-8a7b-4199-bb31-688da68e9cd0",
   "metadata": {},
   "outputs": [
    {
     "name": "stdout",
     "output_type": "stream",
     "text": [
      "<class 'numpy.ndarray'>\n"
     ]
    }
   ],
   "source": [
    "print(type(array))"
   ]
  },
  {
   "cell_type": "code",
   "execution_count": 17,
   "id": "df7230d9-90fc-427a-8323-7f2bc1c9b6c8",
   "metadata": {},
   "outputs": [],
   "source": [
    "array = array*2 # this multiplies array elements by 2 but in lists it will duplicate elements"
   ]
  },
  {
   "cell_type": "code",
   "execution_count": 18,
   "id": "49aaafd6-72b3-4c46-b0ca-7abfd3f02310",
   "metadata": {},
   "outputs": [
    {
     "name": "stdout",
     "output_type": "stream",
     "text": [
      "[2 4 6 8]\n"
     ]
    }
   ],
   "source": [
    "print(array)"
   ]
  },
  {
   "cell_type": "markdown",
   "id": "9d694f32-2981-4c9e-896b-01c8eb5e17b4",
   "metadata": {},
   "source": [
    "### Multidimensional array"
   ]
  },
  {
   "cell_type": "code",
   "execution_count": 20,
   "id": "5fea4058-d36c-4830-bcb4-b6c71309e922",
   "metadata": {},
   "outputs": [],
   "source": [
    "multi_array = np.array([[1,2,3,4],[5,6,7,8], [9, 10, 11, 12]])"
   ]
  },
  {
   "cell_type": "code",
   "execution_count": 21,
   "id": "0a69e008-8372-4c4e-87ab-56fb6c30e104",
   "metadata": {},
   "outputs": [
    {
     "name": "stdout",
     "output_type": "stream",
     "text": [
      "[[ 1  2  3  4]\n",
      " [ 5  6  7  8]\n",
      " [ 9 10 11 12]]\n"
     ]
    }
   ],
   "source": [
    "print(multi_array)"
   ]
  },
  {
   "cell_type": "code",
   "execution_count": 22,
   "id": "5314707a-6060-4480-8960-821292f075f9",
   "metadata": {},
   "outputs": [
    {
     "name": "stdout",
     "output_type": "stream",
     "text": [
      "1\n"
     ]
    }
   ],
   "source": [
    "print(array.ndim)"
   ]
  },
  {
   "cell_type": "code",
   "execution_count": 23,
   "id": "8d0582fc-f781-4138-a225-9037c99b7d1b",
   "metadata": {},
   "outputs": [
    {
     "name": "stdout",
     "output_type": "stream",
     "text": [
      "2\n"
     ]
    }
   ],
   "source": [
    "print(multi_array.ndim)"
   ]
  },
  {
   "cell_type": "code",
   "execution_count": 24,
   "id": "028ec47f-c8e3-4439-b29b-55a3cb535049",
   "metadata": {},
   "outputs": [],
   "source": [
    "multi_array_3 = np.array([[[1,2],[3,4], [5,6]],\n",
    "                         [[7,8],[9,0], [1,2]],\n",
    "                         [[3,4],[5,6], [7,8]]])"
   ]
  },
  {
   "cell_type": "code",
   "execution_count": 25,
   "id": "e99a2400-db93-460c-a519-912ca3e2b962",
   "metadata": {},
   "outputs": [
    {
     "name": "stdout",
     "output_type": "stream",
     "text": [
      "[[[1 2]\n",
      "  [3 4]\n",
      "  [5 6]]\n",
      "\n",
      " [[7 8]\n",
      "  [9 0]\n",
      "  [1 2]]\n",
      "\n",
      " [[3 4]\n",
      "  [5 6]\n",
      "  [7 8]]]\n"
     ]
    }
   ],
   "source": [
    "print(multi_array_3)"
   ]
  },
  {
   "cell_type": "code",
   "execution_count": 26,
   "id": "f5394809-6f0e-4752-8972-010a61b5cf9f",
   "metadata": {},
   "outputs": [
    {
     "name": "stdout",
     "output_type": "stream",
     "text": [
      "3\n"
     ]
    }
   ],
   "source": [
    "print(multi_array_3.ndim)"
   ]
  },
  {
   "cell_type": "markdown",
   "id": "832ef322-f653-4581-91bc-991d4c62e711",
   "metadata": {},
   "source": [
    "**shape**\n",
    "- this returns depth, number of rows, and number of columns depending on the array."
   ]
  },
  {
   "cell_type": "code",
   "execution_count": 27,
   "id": "62119891-30dc-4c04-bcad-c1f5bfaa51d8",
   "metadata": {},
   "outputs": [
    {
     "name": "stdout",
     "output_type": "stream",
     "text": [
      "(3, 3, 2)\n"
     ]
    }
   ],
   "source": [
    "print(multi_array_3.shape)"
   ]
  },
  {
   "cell_type": "code",
   "execution_count": 28,
   "id": "900c5601-4358-4ac2-9256-17abb1cf275a",
   "metadata": {},
   "outputs": [
    {
     "name": "stdout",
     "output_type": "stream",
     "text": [
      "(3, 4)\n"
     ]
    }
   ],
   "source": [
    "print(multi_array.shape)"
   ]
  },
  {
   "cell_type": "code",
   "execution_count": 29,
   "id": "9c898f8a-5d02-4b3d-9093-048b00cbf99c",
   "metadata": {},
   "outputs": [
    {
     "name": "stdout",
     "output_type": "stream",
     "text": [
      "(4,)\n"
     ]
    }
   ],
   "source": [
    "print(array.shape)"
   ]
  },
  {
   "cell_type": "markdown",
   "id": "9a71840e-2b9a-4970-ab14-30105cf12c6a",
   "metadata": {},
   "source": [
    "- in list we use chain indexing, which is l[0][0][0]\n",
    "\n",
    "- in numoy arrays also we can do this\n",
    "\n",
    "- But we have multidimensional indexing\n",
    "    - In this we write every index in single [] but they are seperated by commas\n",
    "- Multidimensional indexing is faster than chain indexing"
   ]
  },
  {
   "cell_type": "code",
   "execution_count": 31,
   "id": "d434c6ea-eeab-4725-a298-e1c498f60a92",
   "metadata": {},
   "outputs": [
    {
     "name": "stdout",
     "output_type": "stream",
     "text": [
      "1\n"
     ]
    }
   ],
   "source": [
    "print(multi_array_3[0][0][0]) # chain indexing"
   ]
  },
  {
   "cell_type": "code",
   "execution_count": 33,
   "id": "e1b267c9-6c74-49ed-ac11-0208295ccd9c",
   "metadata": {},
   "outputs": [
    {
     "name": "stdout",
     "output_type": "stream",
     "text": [
      "2\n"
     ]
    }
   ],
   "source": [
    "print(multi_array_3[0,0,1]) # multidimensional index"
   ]
  },
  {
   "cell_type": "code",
   "execution_count": 34,
   "id": "ba1b6172-4288-4379-a883-50de4861a93b",
   "metadata": {},
   "outputs": [
    {
     "name": "stdout",
     "output_type": "stream",
     "text": [
      "7\n"
     ]
    }
   ],
   "source": [
    "print(multi_array[1,2])"
   ]
  },
  {
   "cell_type": "markdown",
   "id": "60c4e7b3-0f3f-4ab3-8a4f-ef1b50172af4",
   "metadata": {},
   "source": [
    "### Slicing"
   ]
  },
  {
   "cell_type": "code",
   "execution_count": 35,
   "id": "297983d6-61ea-4911-aec5-d54afdfe650c",
   "metadata": {},
   "outputs": [],
   "source": [
    "array = np.array([[1,2,3,4],\n",
    "                  [5,6,7,8],\n",
    "                  [9,10,11,12],\n",
    "                  [13,14,15,16]])"
   ]
  },
  {
   "cell_type": "code",
   "execution_count": 41,
   "id": "ee5ef9ec-bd31-4714-b4a5-71919588c93b",
   "metadata": {},
   "outputs": [
    {
     "data": {
      "text/plain": [
       "array([[ 1,  2,  3,  4],\n",
       "       [ 9, 10, 11, 12]])"
      ]
     },
     "execution_count": 41,
     "metadata": {},
     "output_type": "execute_result"
    }
   ],
   "source": [
    "# array[start:end:step]\n",
    "array[0:4:2]"
   ]
  },
  {
   "cell_type": "code",
   "execution_count": 42,
   "id": "afac28b3-01a1-4703-9c14-d4b12f1c3af6",
   "metadata": {},
   "outputs": [
    {
     "data": {
      "text/plain": [
       "array([[13, 14, 15, 16],\n",
       "       [ 9, 10, 11, 12],\n",
       "       [ 5,  6,  7,  8],\n",
       "       [ 1,  2,  3,  4]])"
      ]
     },
     "execution_count": 42,
     "metadata": {},
     "output_type": "execute_result"
    }
   ],
   "source": [
    "array[::-1]"
   ]
  },
  {
   "cell_type": "code",
   "execution_count": 47,
   "id": "47d13456-7a03-400f-a7ef-d9604309ea0e",
   "metadata": {},
   "outputs": [
    {
     "data": {
      "text/plain": [
       "array([ 1,  5,  9, 13])"
      ]
     },
     "execution_count": 47,
     "metadata": {},
     "output_type": "execute_result"
    }
   ],
   "source": [
    "array[:,0] #column selection: returns only columns"
   ]
  },
  {
   "cell_type": "code",
   "execution_count": 48,
   "id": "669b6f4e-ddaf-46d4-af57-bcfa75f5dedd",
   "metadata": {},
   "outputs": [
    {
     "name": "stdout",
     "output_type": "stream",
     "text": [
      "[ 3  7 11 15]\n"
     ]
    }
   ],
   "source": [
    "print(array[:,2])"
   ]
  },
  {
   "cell_type": "code",
   "execution_count": 49,
   "id": "6644cb4d-68aa-416e-93a0-e241257491a9",
   "metadata": {},
   "outputs": [
    {
     "name": "stdout",
     "output_type": "stream",
     "text": [
      "[[ 1  2  3]\n",
      " [ 5  6  7]\n",
      " [ 9 10 11]\n",
      " [13 14 15]]\n"
     ]
    }
   ],
   "source": [
    "print(array[:,0:3])"
   ]
  },
  {
   "cell_type": "code",
   "execution_count": 50,
   "id": "a5db22a7-c397-47c6-afa5-67bf883c1a4d",
   "metadata": {},
   "outputs": [
    {
     "name": "stdout",
     "output_type": "stream",
     "text": [
      "[[ 2  3  4]\n",
      " [ 6  7  8]\n",
      " [10 11 12]\n",
      " [14 15 16]]\n"
     ]
    }
   ],
   "source": [
    "print(array[:,1:4])"
   ]
  },
  {
   "cell_type": "code",
   "execution_count": 55,
   "id": "a6e7951d-90cb-4ce2-909d-37d5118e38a6",
   "metadata": {},
   "outputs": [
    {
     "name": "stdout",
     "output_type": "stream",
     "text": [
      "[[1 2]\n",
      " [5 6]]\n"
     ]
    }
   ],
   "source": [
    "print(array[0:2,0:2])"
   ]
  },
  {
   "cell_type": "code",
   "execution_count": 58,
   "id": "c5078a35-1242-426b-9323-366631923fef",
   "metadata": {},
   "outputs": [
    {
     "name": "stdout",
     "output_type": "stream",
     "text": [
      "[[3 4]\n",
      " [7 8]]\n"
     ]
    }
   ],
   "source": [
    "print(array[0:2,2:])"
   ]
  },
  {
   "cell_type": "markdown",
   "id": "2aeca547-cd63-4e93-901e-980a2272341b",
   "metadata": {},
   "source": [
    "### Arithmetic"
   ]
  },
  {
   "cell_type": "markdown",
   "id": "94bb02a3-8ec9-44b9-b8bf-a12c4667dd0e",
   "metadata": {},
   "source": [
    "**Scalar Arithmetic**\n",
    "- means single value i.e, applying single value to each element of array"
   ]
  },
  {
   "cell_type": "code",
   "execution_count": 61,
   "id": "a8083f55-a52b-449c-934f-2f78938eedc1",
   "metadata": {},
   "outputs": [
    {
     "name": "stdout",
     "output_type": "stream",
     "text": [
      "[1 2 3 4]\n"
     ]
    }
   ],
   "source": [
    "array = np.array([1,2,3,4])\n",
    "print(array)"
   ]
  },
  {
   "cell_type": "code",
   "execution_count": 62,
   "id": "52f4da7e-c3ee-4eaf-8c5b-f2fef5adc840",
   "metadata": {},
   "outputs": [
    {
     "name": "stdout",
     "output_type": "stream",
     "text": [
      "[2 3 4 5]\n"
     ]
    }
   ],
   "source": [
    "print(array+1)"
   ]
  },
  {
   "cell_type": "code",
   "execution_count": 63,
   "id": "7e078f2f-3e6b-4463-961b-1dec6a91b457",
   "metadata": {},
   "outputs": [
    {
     "name": "stdout",
     "output_type": "stream",
     "text": [
      "[0 1 2 3]\n"
     ]
    }
   ],
   "source": [
    "print(array-1)"
   ]
  },
  {
   "cell_type": "code",
   "execution_count": 64,
   "id": "96cdc14c-b5e3-4058-853e-e6e1ff200d16",
   "metadata": {},
   "outputs": [
    {
     "name": "stdout",
     "output_type": "stream",
     "text": [
      "[2 4 6 8]\n"
     ]
    }
   ],
   "source": [
    "print(array*2)"
   ]
  },
  {
   "cell_type": "code",
   "execution_count": 68,
   "id": "e20d768f-d83d-4b79-8602-ca83a68c0ae3",
   "metadata": {},
   "outputs": [
    {
     "name": "stdout",
     "output_type": "stream",
     "text": [
      "[0.33333333 0.66666667 1.         1.33333333]\n"
     ]
    }
   ],
   "source": [
    "print(array/3)"
   ]
  },
  {
   "cell_type": "code",
   "execution_count": 69,
   "id": "3c345456-b434-4673-a293-3c0072d24ea2",
   "metadata": {},
   "outputs": [
    {
     "name": "stdout",
     "output_type": "stream",
     "text": [
      "[  1  16  81 256]\n"
     ]
    }
   ],
   "source": [
    "print(array**4)"
   ]
  },
  {
   "cell_type": "code",
   "execution_count": 71,
   "id": "2f1ce99e-1e68-4e2c-b083-143ccfceb59e",
   "metadata": {},
   "outputs": [
    {
     "name": "stdout",
     "output_type": "stream",
     "text": [
      "[0 1 1 2]\n"
     ]
    }
   ],
   "source": [
    "print(array//2)"
   ]
  },
  {
   "cell_type": "code",
   "execution_count": 72,
   "id": "64a9a454-8999-45ef-a670-c22496120442",
   "metadata": {},
   "outputs": [
    {
     "data": {
      "text/plain": [
       "array([1, 2, 3, 4])"
      ]
     },
     "execution_count": 72,
     "metadata": {},
     "output_type": "execute_result"
    }
   ],
   "source": [
    "array"
   ]
  },
  {
   "cell_type": "markdown",
   "id": "3bd73fff-cce5-4be7-bcc8-cc169e97db64",
   "metadata": {},
   "source": [
    "**Vectorized math functions**\n",
    "\n",
    "- Vector means single dimension\n",
    "\n",
    "- We can apply a function to every element of the array"
   ]
  },
  {
   "cell_type": "code",
   "execution_count": 73,
   "id": "fe17eb21-497a-4d28-bc87-433abc49bcc9",
   "metadata": {},
   "outputs": [
    {
     "name": "stdout",
     "output_type": "stream",
     "text": [
      "[1.         1.41421356 1.73205081 2.        ]\n"
     ]
    }
   ],
   "source": [
    "print(np.sqrt(array))"
   ]
  },
  {
   "cell_type": "code",
   "execution_count": 75,
   "id": "01d6f4b6-c5d7-4af8-a7ae-968cbdb71c42",
   "metadata": {},
   "outputs": [],
   "source": [
    "radii = np.array([1,2,3])"
   ]
  },
  {
   "cell_type": "code",
   "execution_count": 77,
   "id": "438ff4ee-3e15-4588-a503-218f642d0c8d",
   "metadata": {},
   "outputs": [
    {
     "name": "stdout",
     "output_type": "stream",
     "text": [
      "[ 3.14159265 12.56637061 28.27433388]\n"
     ]
    }
   ],
   "source": [
    "# finding area of circle\n",
    "\n",
    "print(np.pi*radii**2)"
   ]
  },
  {
   "cell_type": "markdown",
   "id": "9fac7c7f-f05b-43dc-95ef-15e4c28b83f3",
   "metadata": {},
   "source": [
    "**Element-wise arithmetic**\n",
    "\n",
    "- to apply operation between single elements of two different arrays"
   ]
  },
  {
   "cell_type": "code",
   "execution_count": 78,
   "id": "ddfa1c8a-d918-4273-be59-40bf187f65eb",
   "metadata": {},
   "outputs": [],
   "source": [
    "a1 = np.array([1,2,3])\n",
    "a2 = np.array([4,5,6])"
   ]
  },
  {
   "cell_type": "code",
   "execution_count": 79,
   "id": "9f75ba2e-1819-46fd-8eeb-f67308dcb37a",
   "metadata": {},
   "outputs": [
    {
     "name": "stdout",
     "output_type": "stream",
     "text": [
      "[5 7 9]\n"
     ]
    }
   ],
   "source": [
    "print(a1+a2)"
   ]
  },
  {
   "cell_type": "code",
   "execution_count": 80,
   "id": "fae6e2a4-4d9b-4ce2-9ce7-0f63ebcebe4d",
   "metadata": {},
   "outputs": [
    {
     "name": "stdout",
     "output_type": "stream",
     "text": [
      "[-3 -3 -3]\n"
     ]
    }
   ],
   "source": [
    "print(a1-a2)"
   ]
  },
  {
   "cell_type": "code",
   "execution_count": 81,
   "id": "9f6b2fbd-bdad-4a82-816f-650892df2c21",
   "metadata": {},
   "outputs": [
    {
     "name": "stdout",
     "output_type": "stream",
     "text": [
      "[ 4 10 18]\n"
     ]
    }
   ],
   "source": [
    "print(a1*a2)"
   ]
  },
  {
   "cell_type": "code",
   "execution_count": 82,
   "id": "10e475a5-9105-4174-a1f6-ff237e789402",
   "metadata": {},
   "outputs": [
    {
     "name": "stdout",
     "output_type": "stream",
     "text": [
      "[0.25 0.4  0.5 ]\n"
     ]
    }
   ],
   "source": [
    "print(a1/a2)"
   ]
  },
  {
   "cell_type": "code",
   "execution_count": 83,
   "id": "fefce114-9ebb-46e0-85eb-6929924e901b",
   "metadata": {},
   "outputs": [
    {
     "name": "stdout",
     "output_type": "stream",
     "text": [
      "[  1  32 729]\n"
     ]
    }
   ],
   "source": [
    "print(a1**a2)"
   ]
  },
  {
   "cell_type": "markdown",
   "id": "36304666-1dd0-4992-b383-ce29fe53b62b",
   "metadata": {},
   "source": [
    "**Comparison operation**"
   ]
  },
  {
   "cell_type": "code",
   "execution_count": 84,
   "id": "5be69e6f-b287-45b9-862c-81d84193765c",
   "metadata": {},
   "outputs": [],
   "source": [
    "scores = np.array([91,55,100,73,82,64])"
   ]
  },
  {
   "cell_type": "code",
   "execution_count": 85,
   "id": "305528dd-b43f-4f99-822e-b63f66e9648f",
   "metadata": {},
   "outputs": [
    {
     "name": "stdout",
     "output_type": "stream",
     "text": [
      "[False False  True False False False]\n"
     ]
    }
   ],
   "source": [
    "print(scores==100)"
   ]
  },
  {
   "cell_type": "code",
   "execution_count": 87,
   "id": "a5a69b33-a57f-4228-82ae-c1200910744b",
   "metadata": {},
   "outputs": [
    {
     "name": "stdout",
     "output_type": "stream",
     "text": [
      "[ True False  True  True  True  True]\n"
     ]
    }
   ],
   "source": [
    "print(scores>=60)"
   ]
  },
  {
   "cell_type": "code",
   "execution_count": 88,
   "id": "71d5d948-c838-4272-8977-e5592f054fd2",
   "metadata": {},
   "outputs": [
    {
     "name": "stdout",
     "output_type": "stream",
     "text": [
      "[False  True False False False False]\n"
     ]
    }
   ],
   "source": [
    "print(scores<60)"
   ]
  },
  {
   "cell_type": "code",
   "execution_count": 90,
   "id": "e676e85c-9305-49f0-bda1-d02f4a4909c3",
   "metadata": {},
   "outputs": [],
   "source": [
    "scores[scores<60] = 0"
   ]
  },
  {
   "cell_type": "code",
   "execution_count": 91,
   "id": "83875fa6-d33b-4fb9-99fd-aefc11b27212",
   "metadata": {},
   "outputs": [
    {
     "name": "stdout",
     "output_type": "stream",
     "text": [
      "[ 91   0 100  73  82  64]\n"
     ]
    }
   ],
   "source": [
    "print(scores)"
   ]
  },
  {
   "cell_type": "markdown",
   "id": "cc96bc46-8cc1-4f82-92d4-1bc346534e8a",
   "metadata": {},
   "source": [
    "### broadcasting"
   ]
  },
  {
   "cell_type": "markdown",
   "id": "11aceea9-a336-43bd-97c1-22e5688f9441",
   "metadata": {},
   "source": [
    "- Broadcasting allows numpy to perform operations on arrays with differrent shapes by virtually expanding dimensions, so they match the larger array's shape\n",
    "\n",
    "- The dimensions have same size OR one of the dimensions has a size of 1"
   ]
  },
  {
   "cell_type": "code",
   "execution_count": 92,
   "id": "2d9aeac5-dc29-452f-bc0a-958b4f29da85",
   "metadata": {},
   "outputs": [],
   "source": [
    "a1 = np.array([[1,2,3,4]])\n",
    "a2 = np.array([[1],[2],[3],[4]])"
   ]
  },
  {
   "cell_type": "code",
   "execution_count": 93,
   "id": "9aa5c85e-6e92-4233-9f68-a640642b8975",
   "metadata": {},
   "outputs": [
    {
     "name": "stdout",
     "output_type": "stream",
     "text": [
      "(1, 4)\n",
      "(4, 1)\n"
     ]
    }
   ],
   "source": [
    "print(a1.shape)\n",
    "print(a2.shape)"
   ]
  },
  {
   "cell_type": "code",
   "execution_count": 94,
   "id": "5d133e17-3477-4828-88c9-551ebe9029b4",
   "metadata": {},
   "outputs": [
    {
     "name": "stdout",
     "output_type": "stream",
     "text": [
      "[[ 1  2  3  4]\n",
      " [ 2  4  6  8]\n",
      " [ 3  6  9 12]\n",
      " [ 4  8 12 16]]\n"
     ]
    }
   ],
   "source": [
    "print(a1 * a2)"
   ]
  },
  {
   "cell_type": "code",
   "execution_count": 95,
   "id": "d3c54443-47f3-48f9-8718-a9afd869b5d4",
   "metadata": {},
   "outputs": [],
   "source": [
    "a3 = np.array([[1,2,3,4],[5,6,7,8]])\n",
    "a4 = np.array([[1],[2],[3],[4]])"
   ]
  },
  {
   "cell_type": "code",
   "execution_count": 98,
   "id": "5f21f551-07be-4d56-b8b8-d716d6e406da",
   "metadata": {},
   "outputs": [
    {
     "ename": "ValueError",
     "evalue": "operands could not be broadcast together with shapes (2,4) (4,1) ",
     "output_type": "error",
     "traceback": [
      "\u001b[1;31m---------------------------------------------------------------------------\u001b[0m",
      "\u001b[1;31mValueError\u001b[0m                                Traceback (most recent call last)",
      "Cell \u001b[1;32mIn[98], line 1\u001b[0m\n\u001b[1;32m----> 1\u001b[0m \u001b[38;5;28mprint\u001b[39m(a3\u001b[38;5;241m*\u001b[39ma4)\n",
      "\u001b[1;31mValueError\u001b[0m: operands could not be broadcast together with shapes (2,4) (4,1) "
     ]
    }
   ],
   "source": [
    "print(a3*a4)"
   ]
  },
  {
   "cell_type": "markdown",
   "id": "a07cc827-56cb-46f6-8412-15ef22fb9e2a",
   "metadata": {},
   "source": [
    "### Aggregate functions"
   ]
  },
  {
   "cell_type": "markdown",
   "id": "14b1b430-a66b-4476-8427-f969a67cd4fa",
   "metadata": {},
   "source": [
    "- summarize data and typically returns a single value"
   ]
  },
  {
   "cell_type": "code",
   "execution_count": 101,
   "id": "06708972-dd9b-4a5d-aaf1-e9b979d43861",
   "metadata": {},
   "outputs": [],
   "source": [
    "array = np.array([[1,2,3,4,5],\n",
    "               [6,7,8,9,10]])"
   ]
  },
  {
   "cell_type": "code",
   "execution_count": 102,
   "id": "7e178e7b-a1ee-4550-b149-e4e6828ce568",
   "metadata": {},
   "outputs": [
    {
     "name": "stdout",
     "output_type": "stream",
     "text": [
      "55\n"
     ]
    }
   ],
   "source": [
    "print(np.sum(array))"
   ]
  },
  {
   "cell_type": "code",
   "execution_count": 103,
   "id": "ffaaa6c4-c25d-4b0c-a593-4996bd6eb51f",
   "metadata": {},
   "outputs": [
    {
     "name": "stdout",
     "output_type": "stream",
     "text": [
      "5.5\n"
     ]
    }
   ],
   "source": [
    "print(np.mean(array))"
   ]
  },
  {
   "cell_type": "code",
   "execution_count": 104,
   "id": "72642b96-3148-4282-bd8f-d40f50647263",
   "metadata": {},
   "outputs": [
    {
     "name": "stdout",
     "output_type": "stream",
     "text": [
      "2.8722813232690143\n"
     ]
    }
   ],
   "source": [
    "print(np.std(array)) #standard deviation"
   ]
  },
  {
   "cell_type": "code",
   "execution_count": 105,
   "id": "7092e2ad-0084-41fd-9286-098e371a725f",
   "metadata": {},
   "outputs": [
    {
     "name": "stdout",
     "output_type": "stream",
     "text": [
      "8.25\n"
     ]
    }
   ],
   "source": [
    "# variance\n",
    "print(np.var(array))"
   ]
  },
  {
   "cell_type": "code",
   "execution_count": 106,
   "id": "7a7ed5d4-5099-40ba-9e31-01f806d6a5f1",
   "metadata": {},
   "outputs": [
    {
     "name": "stdout",
     "output_type": "stream",
     "text": [
      "1\n"
     ]
    }
   ],
   "source": [
    "print(np.min(array))"
   ]
  },
  {
   "cell_type": "code",
   "execution_count": 107,
   "id": "d5fb5798-999d-447f-859e-54427d1db181",
   "metadata": {},
   "outputs": [
    {
     "name": "stdout",
     "output_type": "stream",
     "text": [
      "10\n"
     ]
    }
   ],
   "source": [
    "print(np.max(array))"
   ]
  },
  {
   "cell_type": "code",
   "execution_count": 110,
   "id": "6eb74ae2-0010-4e52-bcaa-74ef34794420",
   "metadata": {},
   "outputs": [
    {
     "name": "stdout",
     "output_type": "stream",
     "text": [
      "0\n"
     ]
    }
   ],
   "source": [
    "print(np.argmin(array)) #returns index of least value"
   ]
  },
  {
   "cell_type": "code",
   "execution_count": 111,
   "id": "45f9e2c5-a3e7-4d23-abe3-924410480533",
   "metadata": {},
   "outputs": [
    {
     "name": "stdout",
     "output_type": "stream",
     "text": [
      "9\n"
     ]
    }
   ],
   "source": [
    "print(np.argmax(array)) #returns index of largest value"
   ]
  },
  {
   "cell_type": "code",
   "execution_count": 114,
   "id": "331c5e0c-9177-4ca5-85e9-ac9500f5b8df",
   "metadata": {},
   "outputs": [
    {
     "name": "stdout",
     "output_type": "stream",
     "text": [
      "[ 7  9 11 13 15]\n"
     ]
    }
   ],
   "source": [
    "print(np.sum(array, axis=0)) #sum of columns"
   ]
  },
  {
   "cell_type": "code",
   "execution_count": 115,
   "id": "5ad26ab2-d997-40f5-a781-453e326b4679",
   "metadata": {},
   "outputs": [
    {
     "name": "stdout",
     "output_type": "stream",
     "text": [
      "[15 40]\n"
     ]
    }
   ],
   "source": [
    "print(np.sum(array, axis=1)) #sum of rows"
   ]
  },
  {
   "cell_type": "markdown",
   "id": "71147261-7e8a-4b10-9d59-6a8fcbc2fad1",
   "metadata": {},
   "source": [
    "### filtering"
   ]
  },
  {
   "cell_type": "markdown",
   "id": "0d8b4499-e317-4bee-98a6-c085ffbc59cd",
   "metadata": {},
   "source": [
    "- selecting elements from array which match given condition"
   ]
  },
  {
   "cell_type": "code",
   "execution_count": 116,
   "id": "bed592e0-5394-40ab-bdba-99ea80527a77",
   "metadata": {},
   "outputs": [],
   "source": [
    "ages = np.array([[21,17,19,20,16,30,18,65],\n",
    "                 [39,22,15,99,18,19,20,21]])"
   ]
  },
  {
   "cell_type": "code",
   "execution_count": 117,
   "id": "e33a8e72-8dce-41ea-9894-7f32329986d3",
   "metadata": {},
   "outputs": [],
   "source": [
    "teenagers = ages[ages<18]"
   ]
  },
  {
   "cell_type": "code",
   "execution_count": 118,
   "id": "45b1a0ff-9112-46e0-ab02-abf96df11858",
   "metadata": {},
   "outputs": [
    {
     "name": "stdout",
     "output_type": "stream",
     "text": [
      "[17 16 15]\n"
     ]
    }
   ],
   "source": [
    "print(teenagers)"
   ]
  },
  {
   "cell_type": "code",
   "execution_count": 124,
   "id": "88eddb6d-538a-4df8-bf6e-7533623f6087",
   "metadata": {},
   "outputs": [],
   "source": [
    "adults = ages[(ages >= 18) & (ages<65)]"
   ]
  },
  {
   "cell_type": "code",
   "execution_count": 125,
   "id": "1169bcfa-2a76-4830-9bb3-9b5858770064",
   "metadata": {},
   "outputs": [
    {
     "name": "stdout",
     "output_type": "stream",
     "text": [
      "[21 19 20 30 18 39 22 18 19 20 21]\n"
     ]
    }
   ],
   "source": [
    "print(adults)"
   ]
  },
  {
   "cell_type": "code",
   "execution_count": 126,
   "id": "cd833b86-1f90-461d-895d-96fbb763982f",
   "metadata": {},
   "outputs": [],
   "source": [
    "adults = ages[(ages < 18) | (ages>=65)]"
   ]
  },
  {
   "cell_type": "code",
   "execution_count": 127,
   "id": "4608acae-af29-497f-9aa3-e9acec501774",
   "metadata": {},
   "outputs": [
    {
     "name": "stdout",
     "output_type": "stream",
     "text": [
      "[17 16 65 15 99]\n"
     ]
    }
   ],
   "source": [
    "print(adults)"
   ]
  },
  {
   "cell_type": "code",
   "execution_count": 128,
   "id": "7817dd6f-0886-468a-983f-8c225cc14952",
   "metadata": {},
   "outputs": [],
   "source": [
    "seniors = ages[ages>=65]"
   ]
  },
  {
   "cell_type": "code",
   "execution_count": 129,
   "id": "a4bd3b31-d485-4d0b-8ca0-e0b55825a10b",
   "metadata": {},
   "outputs": [
    {
     "name": "stdout",
     "output_type": "stream",
     "text": [
      "[65 99]\n"
     ]
    }
   ],
   "source": [
    "print(seniors)"
   ]
  },
  {
   "cell_type": "code",
   "execution_count": 130,
   "id": "a1d34523-95d0-4425-8374-8839dd5f8b17",
   "metadata": {},
   "outputs": [],
   "source": [
    "evens = ages[ages%2==0]"
   ]
  },
  {
   "cell_type": "code",
   "execution_count": 131,
   "id": "37b25052-c357-4147-8d5b-482c325bb4db",
   "metadata": {},
   "outputs": [
    {
     "name": "stdout",
     "output_type": "stream",
     "text": [
      "[20 16 30 18 22 18 20]\n"
     ]
    }
   ],
   "source": [
    "print(evens)"
   ]
  },
  {
   "cell_type": "code",
   "execution_count": 134,
   "id": "e1e578e8-c0da-4cf0-96a6-f3fd046f20b3",
   "metadata": {},
   "outputs": [],
   "source": [
    "# to preserve the shape\n",
    "\n",
    "adults = np.where(ages>=18, ages, 0)"
   ]
  },
  {
   "cell_type": "code",
   "execution_count": 135,
   "id": "b6fd913a-44cd-45d0-99c6-5cea8ed617f8",
   "metadata": {},
   "outputs": [
    {
     "name": "stdout",
     "output_type": "stream",
     "text": [
      "[[21  0 19 20  0 30 18 65]\n",
      " [39 22  0 99 18 19 20 21]]\n"
     ]
    }
   ],
   "source": [
    "print(adults)"
   ]
  },
  {
   "cell_type": "markdown",
   "id": "144d5058-a528-4229-9e6b-0348d5492b48",
   "metadata": {},
   "source": [
    "### Random numbers"
   ]
  },
  {
   "cell_type": "code",
   "execution_count": 136,
   "id": "bfd49359-848b-4f7e-b299-a47497388362",
   "metadata": {},
   "outputs": [],
   "source": [
    "array = np.random.default_rng()"
   ]
  },
  {
   "cell_type": "code",
   "execution_count": 140,
   "id": "da70576a-0c7b-40a7-b864-743971141f76",
   "metadata": {},
   "outputs": [
    {
     "name": "stdout",
     "output_type": "stream",
     "text": [
      "4\n"
     ]
    }
   ],
   "source": [
    "print(array.integers(1,7))"
   ]
  },
  {
   "cell_type": "code",
   "execution_count": 141,
   "id": "b1764e34-334b-42b6-b680-94d60add2bac",
   "metadata": {},
   "outputs": [
    {
     "name": "stdout",
     "output_type": "stream",
     "text": [
      "[[48 44 12 58 30]\n",
      " [68 95 65 70 33]\n",
      " [47 40 46 47 33]\n",
      " [66 16 10  9 34]]\n"
     ]
    }
   ],
   "source": [
    "print(array.integers(low = 1, high = 101, size = (4,5)))"
   ]
  },
  {
   "cell_type": "code",
   "execution_count": 168,
   "id": "4cdd3e9f-ace3-4212-a6ec-77e0b2eaf8c4",
   "metadata": {},
   "outputs": [
    {
     "name": "stdout",
     "output_type": "stream",
     "text": [
      "[[48 52]\n",
      " [76 96]\n",
      " [ 4 15]]\n"
     ]
    }
   ],
   "source": [
    "# to produce same results use seed\n",
    "rng = np.random.default_rng(seed=1)\n",
    "print(rng.integers(low = 1, high = 101, size = (3,2)))"
   ]
  },
  {
   "cell_type": "code",
   "execution_count": 164,
   "id": "d72690ca-4a1c-4e89-a268-4b78c304483c",
   "metadata": {},
   "outputs": [
    {
     "name": "stdout",
     "output_type": "stream",
     "text": [
      "[ 0.51477887  0.65133231 -0.35759425]\n"
     ]
    }
   ],
   "source": [
    "print(np.random.uniform(-1,1, size=3))"
   ]
  },
  {
   "cell_type": "code",
   "execution_count": 171,
   "id": "fe596d5a-590c-496e-b181-0c75ecaefd66",
   "metadata": {},
   "outputs": [
    {
     "name": "stdout",
     "output_type": "stream",
     "text": [
      "[[-0.16595599  0.44064899]\n",
      " [-0.99977125 -0.39533485]\n",
      " [-0.70648822 -0.81532281]]\n"
     ]
    }
   ],
   "source": [
    "np.random.seed(seed=1)\n",
    "print(np.random.uniform(low=-1, high=1, size=(3,2)))"
   ]
  },
  {
   "cell_type": "code",
   "execution_count": 176,
   "id": "0117c937-3672-4a79-b5b9-b3ae8cadc748",
   "metadata": {},
   "outputs": [
    {
     "name": "stdout",
     "output_type": "stream",
     "text": [
      "[5 3 1 2 4]\n"
     ]
    }
   ],
   "source": [
    "rng = np.random.default_rng()\n",
    "array = np.array([1,2,3,4,5])\n",
    "rng.shuffle(array)\n",
    "print(array)"
   ]
  },
  {
   "cell_type": "code",
   "execution_count": 177,
   "id": "1e1a280f-4a87-4b82-a1eb-8a9e8995dae6",
   "metadata": {},
   "outputs": [],
   "source": [
    "fruits = np.array(['apple','orange','banana','coconut','pineapple'])"
   ]
  },
  {
   "cell_type": "code",
   "execution_count": 178,
   "id": "3bd7109a-57cb-44b8-b52b-f8e7be564445",
   "metadata": {},
   "outputs": [
    {
     "name": "stdout",
     "output_type": "stream",
     "text": [
      "['apple' 'orange' 'banana' 'coconut' 'pineapple']\n"
     ]
    }
   ],
   "source": [
    "print(fruits)"
   ]
  },
  {
   "cell_type": "code",
   "execution_count": 185,
   "id": "f7c2a649-f3f4-48e6-8f7c-79340c35af4f",
   "metadata": {},
   "outputs": [
    {
     "name": "stdout",
     "output_type": "stream",
     "text": [
      "coconut\n"
     ]
    }
   ],
   "source": [
    "fruit = rng.choice(fruits)\n",
    "print(fruit)"
   ]
  },
  {
   "cell_type": "code",
   "execution_count": 190,
   "id": "c860d2c8-1ccf-4e4b-a588-3fcf116ba1c4",
   "metadata": {},
   "outputs": [
    {
     "name": "stdout",
     "output_type": "stream",
     "text": [
      "['pineapple' 'coconut' 'banana']\n"
     ]
    }
   ],
   "source": [
    "fruit = rng.choice(fruits, size = 3)\n",
    "print(fruit)"
   ]
  },
  {
   "cell_type": "code",
   "execution_count": 191,
   "id": "7fb34106-f6c7-4260-be55-c8a7a1a426ad",
   "metadata": {},
   "outputs": [],
   "source": [
    "fruits = np.array(['🍎','🍊','🍌','🥥','🍍'])"
   ]
  },
  {
   "cell_type": "code",
   "execution_count": 197,
   "id": "2a11b206-a9f7-4205-be97-0f0184f323a1",
   "metadata": {},
   "outputs": [
    {
     "name": "stdout",
     "output_type": "stream",
     "text": [
      "[['🍊' '🥥' '🍌']\n",
      " ['🍎' '🍌' '🍍']\n",
      " ['🍊' '🥥' '🍎']]\n"
     ]
    }
   ],
   "source": [
    "fruit = rng.choice(fruits, size = (3,3))\n",
    "print(fruit)"
   ]
  },
  {
   "cell_type": "code",
   "execution_count": null,
   "id": "34a92a31-5892-4411-b9f0-0d93fe48fbc8",
   "metadata": {},
   "outputs": [],
   "source": []
  }
 ],
 "metadata": {
  "kernelspec": {
   "display_name": "Python 3 (ipykernel)",
   "language": "python",
   "name": "python3"
  },
  "language_info": {
   "codemirror_mode": {
    "name": "ipython",
    "version": 3
   },
   "file_extension": ".py",
   "mimetype": "text/x-python",
   "name": "python",
   "nbconvert_exporter": "python",
   "pygments_lexer": "ipython3",
   "version": "3.11.7"
  }
 },
 "nbformat": 4,
 "nbformat_minor": 5
}
